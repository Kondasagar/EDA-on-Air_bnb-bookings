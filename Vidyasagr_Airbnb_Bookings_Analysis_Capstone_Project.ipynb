{
  "nbformat": 4,
  "nbformat_minor": 0,
  "metadata": {
    "kernelspec": {
      "display_name": "Python 3",
      "language": "python",
      "name": "python3"
    },
    "language_info": {
      "codemirror_mode": {
        "name": "ipython",
        "version": 3
      },
      "file_extension": ".py",
      "mimetype": "text/x-python",
      "name": "python",
      "nbconvert_exporter": "python",
      "pygments_lexer": "ipython3",
      "version": "3.6.6"
    },
    "colab": {
      "name": "Vidyasagr_Airbnb Bookings Analysis - Capstone Project.ipynb",
      "provenance": [],
      "collapsed_sections": [],
      "include_colab_link": true
    }
  },
  "cells": [
    {
      "cell_type": "markdown",
      "metadata": {
        "id": "view-in-github",
        "colab_type": "text"
      },
      "source": [
        "<a href=\"https://colab.research.google.com/github/Kondasagar/EDA-on-Air_bnb-bookings/blob/main/Vidyasagr_Airbnb_Bookings_Analysis_Capstone_Project.ipynb\" target=\"_parent\"><img src=\"https://colab.research.google.com/assets/colab-badge.svg\" alt=\"Open In Colab\"/></a>"
      ]
    },
    {
      "cell_type": "markdown",
      "metadata": {
        "id": "Y06xIdG26kRF"
      },
      "source": [
        "## <b> Since 2008, guests and hosts have used Airbnb to expand on traveling possibilities and present a more unique, personalized way of experiencing the world. Today, Airbnb became one of a kind service that is used and recognized by the whole world. Data analysis on millions of listings provided through Airbnb is a crucial factor for the company. These millions of listings generate a lot of data - data that can be analyzed and used for security, business decisions, understanding of customers' and providers' (hosts) behavior and performance on the platform, guiding marketing initiatives, implementation of innovative additional services and much more. </b>\n",
        "\n",
        "## <b>This dataset has around 49,000 observations in it with 16 columns and it is a mix between categorical and numeric values. </b>\n",
        "\n",
        "## <b> Explore and analyze the data to discover key understandings (not limited to these) such as : \n",
        "* What can we learn about different hosts and areas?\n",
        "* What can we learn from predictions? (ex: locations, prices, reviews, etc)\n",
        "* Which hosts are the busiest and why?\n",
        "* Is there any noticeable difference of traffic among different areas and what could be the reason for it? </b>"
      ]
    },
    {
      "cell_type": "markdown",
      "source": [
        "We have Airbnb data which comprises information about host, neighbourhood, room type, price, reviews and availability. By exploring the data we can come to some conclusions.The steps involved in this process are \n",
        "1. loading the data or reading the data\n",
        "2. cleaning the data\n",
        "3. Manipulate the data if necessary\n",
        "4. EDA\n",
        "5. Conclusions from EDA. "
      ],
      "metadata": {
        "id": "DXOeD_ZxCqy1"
      }
    },
    {
      "cell_type": "code",
      "metadata": {
        "id": "dByMsuzT8Tnw"
      },
      "source": [
        "# importing pandas and numpy libraries\n",
        "\n",
        "import pandas as pd\n",
        "import numpy as np"
      ],
      "execution_count": 63,
      "outputs": []
    },
    {
      "cell_type": "code",
      "source": [
        "# Importing visualization libraraies\n",
        "\n",
        "import seaborn as sns\n",
        "sns.set_style('whitegrid')\n",
        "import matplotlib.pyplot as plt\n",
        "%matplotlib inline"
      ],
      "metadata": {
        "id": "U4aP-wvtrGlP"
      },
      "execution_count": 64,
      "outputs": []
    },
    {
      "cell_type": "markdown",
      "source": [
        "**Mounting the google drive.**"
      ],
      "metadata": {
        "id": "12GwHeHL0E5J"
      }
    },
    {
      "cell_type": "code",
      "source": [
        "from google.colab import drive\n",
        "drive.mount('/content/drive')"
      ],
      "metadata": {
        "colab": {
          "base_uri": "https://localhost:8080/"
        },
        "id": "q71hEWIQzim8",
        "outputId": "aea9401b-6c3e-44f0-aed0-16b05b721582"
      },
      "execution_count": 65,
      "outputs": [
        {
          "output_type": "stream",
          "name": "stdout",
          "text": [
            "Drive already mounted at /content/drive; to attempt to forcibly remount, call drive.mount(\"/content/drive\", force_remount=True).\n"
          ]
        }
      ]
    },
    {
      "cell_type": "code",
      "source": [
        "# reading the airbnb dataset\n",
        "air_bnb=pd.read_csv('/content/drive/MyDrive/Colab Notebooks/capstone_projects/Airbnb_eda/Copy of Airbnb NYC 2019.csv')"
      ],
      "metadata": {
        "id": "vAH3FH1Ize4d"
      },
      "execution_count": 66,
      "outputs": []
    },
    {
      "cell_type": "code",
      "source": [
        "# finding shape of dataframe\n",
        "print(f\"the shape of given Airbnb dataframe is {air_bnb.shape}  \")"
      ],
      "metadata": {
        "colab": {
          "base_uri": "https://localhost:8080/"
        },
        "id": "u9NCrfzQz5CZ",
        "outputId": "d899d929-2d02-49f1-862b-b123524486a0"
      },
      "execution_count": 67,
      "outputs": [
        {
          "output_type": "stream",
          "name": "stdout",
          "text": [
            "the shape of given Airbnb dataframe is (48895, 16)  \n"
          ]
        }
      ]
    },
    {
      "cell_type": "code",
      "source": [
        "# take look at data types and null values in all features using .info() method\n",
        "air_bnb.info()"
      ],
      "metadata": {
        "colab": {
          "base_uri": "https://localhost:8080/"
        },
        "id": "el1avGo40eSX",
        "outputId": "4df66cd7-3167-4739-ace2-83516b2cfcfe"
      },
      "execution_count": 68,
      "outputs": [
        {
          "output_type": "stream",
          "name": "stdout",
          "text": [
            "<class 'pandas.core.frame.DataFrame'>\n",
            "RangeIndex: 48895 entries, 0 to 48894\n",
            "Data columns (total 16 columns):\n",
            " #   Column                          Non-Null Count  Dtype  \n",
            "---  ------                          --------------  -----  \n",
            " 0   id                              48895 non-null  int64  \n",
            " 1   name                            48879 non-null  object \n",
            " 2   host_id                         48895 non-null  int64  \n",
            " 3   host_name                       48874 non-null  object \n",
            " 4   neighbourhood_group             48895 non-null  object \n",
            " 5   neighbourhood                   48895 non-null  object \n",
            " 6   latitude                        48895 non-null  float64\n",
            " 7   longitude                       48895 non-null  float64\n",
            " 8   room_type                       48895 non-null  object \n",
            " 9   price                           48895 non-null  int64  \n",
            " 10  minimum_nights                  48895 non-null  int64  \n",
            " 11  number_of_reviews               48895 non-null  int64  \n",
            " 12  last_review                     38843 non-null  object \n",
            " 13  reviews_per_month               38843 non-null  float64\n",
            " 14  calculated_host_listings_count  48895 non-null  int64  \n",
            " 15  availability_365                48895 non-null  int64  \n",
            "dtypes: float64(3), int64(7), object(6)\n",
            "memory usage: 6.0+ MB\n"
          ]
        }
      ]
    },
    {
      "cell_type": "code",
      "source": [
        "# First ten rows in original dataframe\n",
        "\n",
        "air_bnb.head(10)"
      ],
      "metadata": {
        "colab": {
          "base_uri": "https://localhost:8080/",
          "height": 774
        },
        "id": "-npbW6kk04Fj",
        "outputId": "7e02a4b3-d372-497c-d23e-5482ee3e92fe"
      },
      "execution_count": 69,
      "outputs": [
        {
          "output_type": "execute_result",
          "data": {
            "text/plain": [
              "     id                                              name  host_id  \\\n",
              "0  2539                Clean & quiet apt home by the park     2787   \n",
              "1  2595                             Skylit Midtown Castle     2845   \n",
              "2  3647               THE VILLAGE OF HARLEM....NEW YORK !     4632   \n",
              "3  3831                   Cozy Entire Floor of Brownstone     4869   \n",
              "4  5022  Entire Apt: Spacious Studio/Loft by central park     7192   \n",
              "5  5099         Large Cozy 1 BR Apartment In Midtown East     7322   \n",
              "6  5121                                   BlissArtsSpace!     7356   \n",
              "7  5178                  Large Furnished Room Near B'way      8967   \n",
              "8  5203                Cozy Clean Guest Room - Family Apt     7490   \n",
              "9  5238                Cute & Cozy Lower East Side 1 bdrm     7549   \n",
              "\n",
              "     host_name neighbourhood_group       neighbourhood  latitude  longitude  \\\n",
              "0         John            Brooklyn          Kensington  40.64749  -73.97237   \n",
              "1     Jennifer           Manhattan             Midtown  40.75362  -73.98377   \n",
              "2    Elisabeth           Manhattan              Harlem  40.80902  -73.94190   \n",
              "3  LisaRoxanne            Brooklyn        Clinton Hill  40.68514  -73.95976   \n",
              "4        Laura           Manhattan         East Harlem  40.79851  -73.94399   \n",
              "5        Chris           Manhattan         Murray Hill  40.74767  -73.97500   \n",
              "6        Garon            Brooklyn  Bedford-Stuyvesant  40.68688  -73.95596   \n",
              "7     Shunichi           Manhattan      Hell's Kitchen  40.76489  -73.98493   \n",
              "8    MaryEllen           Manhattan     Upper West Side  40.80178  -73.96723   \n",
              "9          Ben           Manhattan           Chinatown  40.71344  -73.99037   \n",
              "\n",
              "         room_type  price  minimum_nights  number_of_reviews last_review  \\\n",
              "0     Private room    149               1                  9  2018-10-19   \n",
              "1  Entire home/apt    225               1                 45  2019-05-21   \n",
              "2     Private room    150               3                  0         NaN   \n",
              "3  Entire home/apt     89               1                270  2019-07-05   \n",
              "4  Entire home/apt     80              10                  9  2018-11-19   \n",
              "5  Entire home/apt    200               3                 74  2019-06-22   \n",
              "6     Private room     60              45                 49  2017-10-05   \n",
              "7     Private room     79               2                430  2019-06-24   \n",
              "8     Private room     79               2                118  2017-07-21   \n",
              "9  Entire home/apt    150               1                160  2019-06-09   \n",
              "\n",
              "   reviews_per_month  calculated_host_listings_count  availability_365  \n",
              "0               0.21                               6               365  \n",
              "1               0.38                               2               355  \n",
              "2                NaN                               1               365  \n",
              "3               4.64                               1               194  \n",
              "4               0.10                               1                 0  \n",
              "5               0.59                               1               129  \n",
              "6               0.40                               1                 0  \n",
              "7               3.47                               1               220  \n",
              "8               0.99                               1                 0  \n",
              "9               1.33                               4               188  "
            ],
            "text/html": [
              "\n",
              "  <div id=\"df-c3f0dffe-0e4b-4c4f-b6e0-eadad1e0edc8\">\n",
              "    <div class=\"colab-df-container\">\n",
              "      <div>\n",
              "<style scoped>\n",
              "    .dataframe tbody tr th:only-of-type {\n",
              "        vertical-align: middle;\n",
              "    }\n",
              "\n",
              "    .dataframe tbody tr th {\n",
              "        vertical-align: top;\n",
              "    }\n",
              "\n",
              "    .dataframe thead th {\n",
              "        text-align: right;\n",
              "    }\n",
              "</style>\n",
              "<table border=\"1\" class=\"dataframe\">\n",
              "  <thead>\n",
              "    <tr style=\"text-align: right;\">\n",
              "      <th></th>\n",
              "      <th>id</th>\n",
              "      <th>name</th>\n",
              "      <th>host_id</th>\n",
              "      <th>host_name</th>\n",
              "      <th>neighbourhood_group</th>\n",
              "      <th>neighbourhood</th>\n",
              "      <th>latitude</th>\n",
              "      <th>longitude</th>\n",
              "      <th>room_type</th>\n",
              "      <th>price</th>\n",
              "      <th>minimum_nights</th>\n",
              "      <th>number_of_reviews</th>\n",
              "      <th>last_review</th>\n",
              "      <th>reviews_per_month</th>\n",
              "      <th>calculated_host_listings_count</th>\n",
              "      <th>availability_365</th>\n",
              "    </tr>\n",
              "  </thead>\n",
              "  <tbody>\n",
              "    <tr>\n",
              "      <th>0</th>\n",
              "      <td>2539</td>\n",
              "      <td>Clean &amp; quiet apt home by the park</td>\n",
              "      <td>2787</td>\n",
              "      <td>John</td>\n",
              "      <td>Brooklyn</td>\n",
              "      <td>Kensington</td>\n",
              "      <td>40.64749</td>\n",
              "      <td>-73.97237</td>\n",
              "      <td>Private room</td>\n",
              "      <td>149</td>\n",
              "      <td>1</td>\n",
              "      <td>9</td>\n",
              "      <td>2018-10-19</td>\n",
              "      <td>0.21</td>\n",
              "      <td>6</td>\n",
              "      <td>365</td>\n",
              "    </tr>\n",
              "    <tr>\n",
              "      <th>1</th>\n",
              "      <td>2595</td>\n",
              "      <td>Skylit Midtown Castle</td>\n",
              "      <td>2845</td>\n",
              "      <td>Jennifer</td>\n",
              "      <td>Manhattan</td>\n",
              "      <td>Midtown</td>\n",
              "      <td>40.75362</td>\n",
              "      <td>-73.98377</td>\n",
              "      <td>Entire home/apt</td>\n",
              "      <td>225</td>\n",
              "      <td>1</td>\n",
              "      <td>45</td>\n",
              "      <td>2019-05-21</td>\n",
              "      <td>0.38</td>\n",
              "      <td>2</td>\n",
              "      <td>355</td>\n",
              "    </tr>\n",
              "    <tr>\n",
              "      <th>2</th>\n",
              "      <td>3647</td>\n",
              "      <td>THE VILLAGE OF HARLEM....NEW YORK !</td>\n",
              "      <td>4632</td>\n",
              "      <td>Elisabeth</td>\n",
              "      <td>Manhattan</td>\n",
              "      <td>Harlem</td>\n",
              "      <td>40.80902</td>\n",
              "      <td>-73.94190</td>\n",
              "      <td>Private room</td>\n",
              "      <td>150</td>\n",
              "      <td>3</td>\n",
              "      <td>0</td>\n",
              "      <td>NaN</td>\n",
              "      <td>NaN</td>\n",
              "      <td>1</td>\n",
              "      <td>365</td>\n",
              "    </tr>\n",
              "    <tr>\n",
              "      <th>3</th>\n",
              "      <td>3831</td>\n",
              "      <td>Cozy Entire Floor of Brownstone</td>\n",
              "      <td>4869</td>\n",
              "      <td>LisaRoxanne</td>\n",
              "      <td>Brooklyn</td>\n",
              "      <td>Clinton Hill</td>\n",
              "      <td>40.68514</td>\n",
              "      <td>-73.95976</td>\n",
              "      <td>Entire home/apt</td>\n",
              "      <td>89</td>\n",
              "      <td>1</td>\n",
              "      <td>270</td>\n",
              "      <td>2019-07-05</td>\n",
              "      <td>4.64</td>\n",
              "      <td>1</td>\n",
              "      <td>194</td>\n",
              "    </tr>\n",
              "    <tr>\n",
              "      <th>4</th>\n",
              "      <td>5022</td>\n",
              "      <td>Entire Apt: Spacious Studio/Loft by central park</td>\n",
              "      <td>7192</td>\n",
              "      <td>Laura</td>\n",
              "      <td>Manhattan</td>\n",
              "      <td>East Harlem</td>\n",
              "      <td>40.79851</td>\n",
              "      <td>-73.94399</td>\n",
              "      <td>Entire home/apt</td>\n",
              "      <td>80</td>\n",
              "      <td>10</td>\n",
              "      <td>9</td>\n",
              "      <td>2018-11-19</td>\n",
              "      <td>0.10</td>\n",
              "      <td>1</td>\n",
              "      <td>0</td>\n",
              "    </tr>\n",
              "    <tr>\n",
              "      <th>5</th>\n",
              "      <td>5099</td>\n",
              "      <td>Large Cozy 1 BR Apartment In Midtown East</td>\n",
              "      <td>7322</td>\n",
              "      <td>Chris</td>\n",
              "      <td>Manhattan</td>\n",
              "      <td>Murray Hill</td>\n",
              "      <td>40.74767</td>\n",
              "      <td>-73.97500</td>\n",
              "      <td>Entire home/apt</td>\n",
              "      <td>200</td>\n",
              "      <td>3</td>\n",
              "      <td>74</td>\n",
              "      <td>2019-06-22</td>\n",
              "      <td>0.59</td>\n",
              "      <td>1</td>\n",
              "      <td>129</td>\n",
              "    </tr>\n",
              "    <tr>\n",
              "      <th>6</th>\n",
              "      <td>5121</td>\n",
              "      <td>BlissArtsSpace!</td>\n",
              "      <td>7356</td>\n",
              "      <td>Garon</td>\n",
              "      <td>Brooklyn</td>\n",
              "      <td>Bedford-Stuyvesant</td>\n",
              "      <td>40.68688</td>\n",
              "      <td>-73.95596</td>\n",
              "      <td>Private room</td>\n",
              "      <td>60</td>\n",
              "      <td>45</td>\n",
              "      <td>49</td>\n",
              "      <td>2017-10-05</td>\n",
              "      <td>0.40</td>\n",
              "      <td>1</td>\n",
              "      <td>0</td>\n",
              "    </tr>\n",
              "    <tr>\n",
              "      <th>7</th>\n",
              "      <td>5178</td>\n",
              "      <td>Large Furnished Room Near B'way</td>\n",
              "      <td>8967</td>\n",
              "      <td>Shunichi</td>\n",
              "      <td>Manhattan</td>\n",
              "      <td>Hell's Kitchen</td>\n",
              "      <td>40.76489</td>\n",
              "      <td>-73.98493</td>\n",
              "      <td>Private room</td>\n",
              "      <td>79</td>\n",
              "      <td>2</td>\n",
              "      <td>430</td>\n",
              "      <td>2019-06-24</td>\n",
              "      <td>3.47</td>\n",
              "      <td>1</td>\n",
              "      <td>220</td>\n",
              "    </tr>\n",
              "    <tr>\n",
              "      <th>8</th>\n",
              "      <td>5203</td>\n",
              "      <td>Cozy Clean Guest Room - Family Apt</td>\n",
              "      <td>7490</td>\n",
              "      <td>MaryEllen</td>\n",
              "      <td>Manhattan</td>\n",
              "      <td>Upper West Side</td>\n",
              "      <td>40.80178</td>\n",
              "      <td>-73.96723</td>\n",
              "      <td>Private room</td>\n",
              "      <td>79</td>\n",
              "      <td>2</td>\n",
              "      <td>118</td>\n",
              "      <td>2017-07-21</td>\n",
              "      <td>0.99</td>\n",
              "      <td>1</td>\n",
              "      <td>0</td>\n",
              "    </tr>\n",
              "    <tr>\n",
              "      <th>9</th>\n",
              "      <td>5238</td>\n",
              "      <td>Cute &amp; Cozy Lower East Side 1 bdrm</td>\n",
              "      <td>7549</td>\n",
              "      <td>Ben</td>\n",
              "      <td>Manhattan</td>\n",
              "      <td>Chinatown</td>\n",
              "      <td>40.71344</td>\n",
              "      <td>-73.99037</td>\n",
              "      <td>Entire home/apt</td>\n",
              "      <td>150</td>\n",
              "      <td>1</td>\n",
              "      <td>160</td>\n",
              "      <td>2019-06-09</td>\n",
              "      <td>1.33</td>\n",
              "      <td>4</td>\n",
              "      <td>188</td>\n",
              "    </tr>\n",
              "  </tbody>\n",
              "</table>\n",
              "</div>\n",
              "      <button class=\"colab-df-convert\" onclick=\"convertToInteractive('df-c3f0dffe-0e4b-4c4f-b6e0-eadad1e0edc8')\"\n",
              "              title=\"Convert this dataframe to an interactive table.\"\n",
              "              style=\"display:none;\">\n",
              "        \n",
              "  <svg xmlns=\"http://www.w3.org/2000/svg\" height=\"24px\"viewBox=\"0 0 24 24\"\n",
              "       width=\"24px\">\n",
              "    <path d=\"M0 0h24v24H0V0z\" fill=\"none\"/>\n",
              "    <path d=\"M18.56 5.44l.94 2.06.94-2.06 2.06-.94-2.06-.94-.94-2.06-.94 2.06-2.06.94zm-11 1L8.5 8.5l.94-2.06 2.06-.94-2.06-.94L8.5 2.5l-.94 2.06-2.06.94zm10 10l.94 2.06.94-2.06 2.06-.94-2.06-.94-.94-2.06-.94 2.06-2.06.94z\"/><path d=\"M17.41 7.96l-1.37-1.37c-.4-.4-.92-.59-1.43-.59-.52 0-1.04.2-1.43.59L10.3 9.45l-7.72 7.72c-.78.78-.78 2.05 0 2.83L4 21.41c.39.39.9.59 1.41.59.51 0 1.02-.2 1.41-.59l7.78-7.78 2.81-2.81c.8-.78.8-2.07 0-2.86zM5.41 20L4 18.59l7.72-7.72 1.47 1.35L5.41 20z\"/>\n",
              "  </svg>\n",
              "      </button>\n",
              "      \n",
              "  <style>\n",
              "    .colab-df-container {\n",
              "      display:flex;\n",
              "      flex-wrap:wrap;\n",
              "      gap: 12px;\n",
              "    }\n",
              "\n",
              "    .colab-df-convert {\n",
              "      background-color: #E8F0FE;\n",
              "      border: none;\n",
              "      border-radius: 50%;\n",
              "      cursor: pointer;\n",
              "      display: none;\n",
              "      fill: #1967D2;\n",
              "      height: 32px;\n",
              "      padding: 0 0 0 0;\n",
              "      width: 32px;\n",
              "    }\n",
              "\n",
              "    .colab-df-convert:hover {\n",
              "      background-color: #E2EBFA;\n",
              "      box-shadow: 0px 1px 2px rgba(60, 64, 67, 0.3), 0px 1px 3px 1px rgba(60, 64, 67, 0.15);\n",
              "      fill: #174EA6;\n",
              "    }\n",
              "\n",
              "    [theme=dark] .colab-df-convert {\n",
              "      background-color: #3B4455;\n",
              "      fill: #D2E3FC;\n",
              "    }\n",
              "\n",
              "    [theme=dark] .colab-df-convert:hover {\n",
              "      background-color: #434B5C;\n",
              "      box-shadow: 0px 1px 3px 1px rgba(0, 0, 0, 0.15);\n",
              "      filter: drop-shadow(0px 1px 2px rgba(0, 0, 0, 0.3));\n",
              "      fill: #FFFFFF;\n",
              "    }\n",
              "  </style>\n",
              "\n",
              "      <script>\n",
              "        const buttonEl =\n",
              "          document.querySelector('#df-c3f0dffe-0e4b-4c4f-b6e0-eadad1e0edc8 button.colab-df-convert');\n",
              "        buttonEl.style.display =\n",
              "          google.colab.kernel.accessAllowed ? 'block' : 'none';\n",
              "\n",
              "        async function convertToInteractive(key) {\n",
              "          const element = document.querySelector('#df-c3f0dffe-0e4b-4c4f-b6e0-eadad1e0edc8');\n",
              "          const dataTable =\n",
              "            await google.colab.kernel.invokeFunction('convertToInteractive',\n",
              "                                                     [key], {});\n",
              "          if (!dataTable) return;\n",
              "\n",
              "          const docLinkHtml = 'Like what you see? Visit the ' +\n",
              "            '<a target=\"_blank\" href=https://colab.research.google.com/notebooks/data_table.ipynb>data table notebook</a>'\n",
              "            + ' to learn more about interactive tables.';\n",
              "          element.innerHTML = '';\n",
              "          dataTable['output_type'] = 'display_data';\n",
              "          await google.colab.output.renderOutput(dataTable, element);\n",
              "          const docLink = document.createElement('div');\n",
              "          docLink.innerHTML = docLinkHtml;\n",
              "          element.appendChild(docLink);\n",
              "        }\n",
              "      </script>\n",
              "    </div>\n",
              "  </div>\n",
              "  "
            ]
          },
          "metadata": {},
          "execution_count": 69
        }
      ]
    },
    {
      "cell_type": "markdown",
      "source": [
        "**We might need to count the number of NaN values for each feature in the dataset so that we can decide how to deal with it. For example, if the number of missing values is quite low, then we may choose to drop those observations; or there might be a column where a lot of entries are missing, so we can decide whether to include that variable at all.**"
      ],
      "metadata": {
        "id": "dpW2KeWGE5Bx"
      }
    },
    {
      "cell_type": "code",
      "source": [
        "# finding null values in different features\n",
        "air_bnb.isnull().sum()\n"
      ],
      "metadata": {
        "id": "SBV8Mfc51Qn0",
        "colab": {
          "base_uri": "https://localhost:8080/"
        },
        "outputId": "2e4a6859-227a-49df-c2bd-20737c39dc36"
      },
      "execution_count": 70,
      "outputs": [
        {
          "output_type": "execute_result",
          "data": {
            "text/plain": [
              "id                                    0\n",
              "name                                 16\n",
              "host_id                               0\n",
              "host_name                            21\n",
              "neighbourhood_group                   0\n",
              "neighbourhood                         0\n",
              "latitude                              0\n",
              "longitude                             0\n",
              "room_type                             0\n",
              "price                                 0\n",
              "minimum_nights                        0\n",
              "number_of_reviews                     0\n",
              "last_review                       10052\n",
              "reviews_per_month                 10052\n",
              "calculated_host_listings_count        0\n",
              "availability_365                      0\n",
              "dtype: int64"
            ]
          },
          "metadata": {},
          "execution_count": 70
        }
      ]
    },
    {
      "cell_type": "markdown",
      "source": [
        "In the **'last_review'** and **'review_per_month'** columns, the number of null values are high, so it is better to drop these two features to go for further analysis."
      ],
      "metadata": {
        "id": "UfdUqCR9Fw_H"
      }
    },
    {
      "cell_type": "code",
      "source": [
        "air_bnb.columns"
      ],
      "metadata": {
        "colab": {
          "base_uri": "https://localhost:8080/"
        },
        "id": "zey4Wl8HFOyF",
        "outputId": "de80c060-d99b-403a-9d69-1793ae2ba3cc"
      },
      "execution_count": 71,
      "outputs": [
        {
          "output_type": "execute_result",
          "data": {
            "text/plain": [
              "Index(['id', 'name', 'host_id', 'host_name', 'neighbourhood_group',\n",
              "       'neighbourhood', 'latitude', 'longitude', 'room_type', 'price',\n",
              "       'minimum_nights', 'number_of_reviews', 'last_review',\n",
              "       'reviews_per_month', 'calculated_host_listings_count',\n",
              "       'availability_365'],\n",
              "      dtype='object')"
            ]
          },
          "metadata": {},
          "execution_count": 71
        }
      ]
    },
    {
      "cell_type": "code",
      "source": [
        "df=air_bnb[['id', 'name', 'host_id', 'host_name', 'neighbourhood_group','neighbourhood','room_type', 'price','minimum_nights', 'number_of_reviews',\n",
        "             'calculated_host_listings_count', 'availability_365']]\n"
      ],
      "metadata": {
        "id": "mVoJd9HPJcng"
      },
      "execution_count": 72,
      "outputs": []
    },
    {
      "cell_type": "code",
      "source": [
        "df.shape"
      ],
      "metadata": {
        "colab": {
          "base_uri": "https://localhost:8080/"
        },
        "id": "YW6drx_wJ9o4",
        "outputId": "72d14298-e361-4f2a-f430-c4cd2db3b99f"
      },
      "execution_count": 73,
      "outputs": [
        {
          "output_type": "execute_result",
          "data": {
            "text/plain": [
              "(48895, 12)"
            ]
          },
          "metadata": {},
          "execution_count": 73
        }
      ]
    },
    {
      "cell_type": "code",
      "source": [
        "# null values in our data frame are\n",
        "df.isnull().sum()"
      ],
      "metadata": {
        "colab": {
          "base_uri": "https://localhost:8080/"
        },
        "id": "ANHya56qJ_D-",
        "outputId": "61841913-d43e-40f3-d6c3-8304046818ac"
      },
      "execution_count": 74,
      "outputs": [
        {
          "output_type": "execute_result",
          "data": {
            "text/plain": [
              "id                                 0\n",
              "name                              16\n",
              "host_id                            0\n",
              "host_name                         21\n",
              "neighbourhood_group                0\n",
              "neighbourhood                      0\n",
              "room_type                          0\n",
              "price                              0\n",
              "minimum_nights                     0\n",
              "number_of_reviews                  0\n",
              "calculated_host_listings_count     0\n",
              "availability_365                   0\n",
              "dtype: int64"
            ]
          },
          "metadata": {},
          "execution_count": 74
        }
      ]
    },
    {
      "cell_type": "code",
      "source": [
        "df_1=df.dropna()\n",
        "df_1.isnull().sum()"
      ],
      "metadata": {
        "colab": {
          "base_uri": "https://localhost:8080/"
        },
        "id": "WxipxQXDKUPy",
        "outputId": "df5c766e-78f1-4f7d-b3fd-06214d3f899d"
      },
      "execution_count": 75,
      "outputs": [
        {
          "output_type": "execute_result",
          "data": {
            "text/plain": [
              "id                                0\n",
              "name                              0\n",
              "host_id                           0\n",
              "host_name                         0\n",
              "neighbourhood_group               0\n",
              "neighbourhood                     0\n",
              "room_type                         0\n",
              "price                             0\n",
              "minimum_nights                    0\n",
              "number_of_reviews                 0\n",
              "calculated_host_listings_count    0\n",
              "availability_365                  0\n",
              "dtype: int64"
            ]
          },
          "metadata": {},
          "execution_count": 75
        }
      ]
    },
    {
      "cell_type": "code",
      "source": [
        "df_1.shape"
      ],
      "metadata": {
        "colab": {
          "base_uri": "https://localhost:8080/"
        },
        "id": "fAMHlEIBLH7_",
        "outputId": "c180b6da-cab0-438f-ff13-0bae1aa99d29"
      },
      "execution_count": 76,
      "outputs": [
        {
          "output_type": "execute_result",
          "data": {
            "text/plain": [
              "(48858, 12)"
            ]
          },
          "metadata": {},
          "execution_count": 76
        }
      ]
    },
    {
      "cell_type": "code",
      "source": [
        "df_1.duplicated().unique()"
      ],
      "metadata": {
        "colab": {
          "base_uri": "https://localhost:8080/"
        },
        "id": "-ouAtWs_LK1n",
        "outputId": "6b2bad2f-a3b6-4261-8387-1f6035e4b925"
      },
      "execution_count": 77,
      "outputs": [
        {
          "output_type": "execute_result",
          "data": {
            "text/plain": [
              "array([False])"
            ]
          },
          "metadata": {},
          "execution_count": 77
        }
      ]
    },
    {
      "cell_type": "markdown",
      "source": [
        "The dataframe df_1 does not have duplicate rows."
      ],
      "metadata": {
        "id": "HhWPwtJpL6af"
      }
    },
    {
      "cell_type": "code",
      "source": [
        "df_1.info()"
      ],
      "metadata": {
        "colab": {
          "base_uri": "https://localhost:8080/"
        },
        "id": "qD-T_wgKLbY5",
        "outputId": "b5643561-2da4-4055-cecf-ece5abf5e9dd"
      },
      "execution_count": 78,
      "outputs": [
        {
          "output_type": "stream",
          "name": "stdout",
          "text": [
            "<class 'pandas.core.frame.DataFrame'>\n",
            "Int64Index: 48858 entries, 0 to 48894\n",
            "Data columns (total 12 columns):\n",
            " #   Column                          Non-Null Count  Dtype \n",
            "---  ------                          --------------  ----- \n",
            " 0   id                              48858 non-null  int64 \n",
            " 1   name                            48858 non-null  object\n",
            " 2   host_id                         48858 non-null  int64 \n",
            " 3   host_name                       48858 non-null  object\n",
            " 4   neighbourhood_group             48858 non-null  object\n",
            " 5   neighbourhood                   48858 non-null  object\n",
            " 6   room_type                       48858 non-null  object\n",
            " 7   price                           48858 non-null  int64 \n",
            " 8   minimum_nights                  48858 non-null  int64 \n",
            " 9   number_of_reviews               48858 non-null  int64 \n",
            " 10  calculated_host_listings_count  48858 non-null  int64 \n",
            " 11  availability_365                48858 non-null  int64 \n",
            "dtypes: int64(7), object(5)\n",
            "memory usage: 4.8+ MB\n"
          ]
        }
      ]
    },
    {
      "cell_type": "code",
      "source": [
        "df_1.describe()"
      ],
      "metadata": {
        "colab": {
          "base_uri": "https://localhost:8080/",
          "height": 300
        },
        "id": "1LEiN8bzIr1A",
        "outputId": "d1a02646-e605-4855-8b48-4c2440af780b"
      },
      "execution_count": 79,
      "outputs": [
        {
          "output_type": "execute_result",
          "data": {
            "text/plain": [
              "                 id       host_id         price  minimum_nights  \\\n",
              "count  4.885800e+04  4.885800e+04  48858.000000    48858.000000   \n",
              "mean   1.902335e+07  6.763169e+07    152.740309        7.012444   \n",
              "std    1.098289e+07  7.862389e+07    240.232386       20.019757   \n",
              "min    2.539000e+03  2.438000e+03      0.000000        1.000000   \n",
              "25%    9.475980e+06  7.818669e+06     69.000000        1.000000   \n",
              "50%    1.969114e+07  3.079133e+07    106.000000        3.000000   \n",
              "75%    2.915765e+07  1.074344e+08    175.000000        5.000000   \n",
              "max    3.648724e+07  2.743213e+08  10000.000000     1250.000000   \n",
              "\n",
              "       number_of_reviews  calculated_host_listings_count  availability_365  \n",
              "count       48858.000000                    48858.000000      48858.000000  \n",
              "mean           23.273098                        7.148369        112.801425  \n",
              "std            44.549898                       32.964600        131.610962  \n",
              "min             0.000000                        1.000000          0.000000  \n",
              "25%             1.000000                        1.000000          0.000000  \n",
              "50%             5.000000                        1.000000         45.000000  \n",
              "75%            24.000000                        2.000000        227.000000  \n",
              "max           629.000000                      327.000000        365.000000  "
            ],
            "text/html": [
              "\n",
              "  <div id=\"df-64e766ab-979a-4de5-b94f-8799eea070a2\">\n",
              "    <div class=\"colab-df-container\">\n",
              "      <div>\n",
              "<style scoped>\n",
              "    .dataframe tbody tr th:only-of-type {\n",
              "        vertical-align: middle;\n",
              "    }\n",
              "\n",
              "    .dataframe tbody tr th {\n",
              "        vertical-align: top;\n",
              "    }\n",
              "\n",
              "    .dataframe thead th {\n",
              "        text-align: right;\n",
              "    }\n",
              "</style>\n",
              "<table border=\"1\" class=\"dataframe\">\n",
              "  <thead>\n",
              "    <tr style=\"text-align: right;\">\n",
              "      <th></th>\n",
              "      <th>id</th>\n",
              "      <th>host_id</th>\n",
              "      <th>price</th>\n",
              "      <th>minimum_nights</th>\n",
              "      <th>number_of_reviews</th>\n",
              "      <th>calculated_host_listings_count</th>\n",
              "      <th>availability_365</th>\n",
              "    </tr>\n",
              "  </thead>\n",
              "  <tbody>\n",
              "    <tr>\n",
              "      <th>count</th>\n",
              "      <td>4.885800e+04</td>\n",
              "      <td>4.885800e+04</td>\n",
              "      <td>48858.000000</td>\n",
              "      <td>48858.000000</td>\n",
              "      <td>48858.000000</td>\n",
              "      <td>48858.000000</td>\n",
              "      <td>48858.000000</td>\n",
              "    </tr>\n",
              "    <tr>\n",
              "      <th>mean</th>\n",
              "      <td>1.902335e+07</td>\n",
              "      <td>6.763169e+07</td>\n",
              "      <td>152.740309</td>\n",
              "      <td>7.012444</td>\n",
              "      <td>23.273098</td>\n",
              "      <td>7.148369</td>\n",
              "      <td>112.801425</td>\n",
              "    </tr>\n",
              "    <tr>\n",
              "      <th>std</th>\n",
              "      <td>1.098289e+07</td>\n",
              "      <td>7.862389e+07</td>\n",
              "      <td>240.232386</td>\n",
              "      <td>20.019757</td>\n",
              "      <td>44.549898</td>\n",
              "      <td>32.964600</td>\n",
              "      <td>131.610962</td>\n",
              "    </tr>\n",
              "    <tr>\n",
              "      <th>min</th>\n",
              "      <td>2.539000e+03</td>\n",
              "      <td>2.438000e+03</td>\n",
              "      <td>0.000000</td>\n",
              "      <td>1.000000</td>\n",
              "      <td>0.000000</td>\n",
              "      <td>1.000000</td>\n",
              "      <td>0.000000</td>\n",
              "    </tr>\n",
              "    <tr>\n",
              "      <th>25%</th>\n",
              "      <td>9.475980e+06</td>\n",
              "      <td>7.818669e+06</td>\n",
              "      <td>69.000000</td>\n",
              "      <td>1.000000</td>\n",
              "      <td>1.000000</td>\n",
              "      <td>1.000000</td>\n",
              "      <td>0.000000</td>\n",
              "    </tr>\n",
              "    <tr>\n",
              "      <th>50%</th>\n",
              "      <td>1.969114e+07</td>\n",
              "      <td>3.079133e+07</td>\n",
              "      <td>106.000000</td>\n",
              "      <td>3.000000</td>\n",
              "      <td>5.000000</td>\n",
              "      <td>1.000000</td>\n",
              "      <td>45.000000</td>\n",
              "    </tr>\n",
              "    <tr>\n",
              "      <th>75%</th>\n",
              "      <td>2.915765e+07</td>\n",
              "      <td>1.074344e+08</td>\n",
              "      <td>175.000000</td>\n",
              "      <td>5.000000</td>\n",
              "      <td>24.000000</td>\n",
              "      <td>2.000000</td>\n",
              "      <td>227.000000</td>\n",
              "    </tr>\n",
              "    <tr>\n",
              "      <th>max</th>\n",
              "      <td>3.648724e+07</td>\n",
              "      <td>2.743213e+08</td>\n",
              "      <td>10000.000000</td>\n",
              "      <td>1250.000000</td>\n",
              "      <td>629.000000</td>\n",
              "      <td>327.000000</td>\n",
              "      <td>365.000000</td>\n",
              "    </tr>\n",
              "  </tbody>\n",
              "</table>\n",
              "</div>\n",
              "      <button class=\"colab-df-convert\" onclick=\"convertToInteractive('df-64e766ab-979a-4de5-b94f-8799eea070a2')\"\n",
              "              title=\"Convert this dataframe to an interactive table.\"\n",
              "              style=\"display:none;\">\n",
              "        \n",
              "  <svg xmlns=\"http://www.w3.org/2000/svg\" height=\"24px\"viewBox=\"0 0 24 24\"\n",
              "       width=\"24px\">\n",
              "    <path d=\"M0 0h24v24H0V0z\" fill=\"none\"/>\n",
              "    <path d=\"M18.56 5.44l.94 2.06.94-2.06 2.06-.94-2.06-.94-.94-2.06-.94 2.06-2.06.94zm-11 1L8.5 8.5l.94-2.06 2.06-.94-2.06-.94L8.5 2.5l-.94 2.06-2.06.94zm10 10l.94 2.06.94-2.06 2.06-.94-2.06-.94-.94-2.06-.94 2.06-2.06.94z\"/><path d=\"M17.41 7.96l-1.37-1.37c-.4-.4-.92-.59-1.43-.59-.52 0-1.04.2-1.43.59L10.3 9.45l-7.72 7.72c-.78.78-.78 2.05 0 2.83L4 21.41c.39.39.9.59 1.41.59.51 0 1.02-.2 1.41-.59l7.78-7.78 2.81-2.81c.8-.78.8-2.07 0-2.86zM5.41 20L4 18.59l7.72-7.72 1.47 1.35L5.41 20z\"/>\n",
              "  </svg>\n",
              "      </button>\n",
              "      \n",
              "  <style>\n",
              "    .colab-df-container {\n",
              "      display:flex;\n",
              "      flex-wrap:wrap;\n",
              "      gap: 12px;\n",
              "    }\n",
              "\n",
              "    .colab-df-convert {\n",
              "      background-color: #E8F0FE;\n",
              "      border: none;\n",
              "      border-radius: 50%;\n",
              "      cursor: pointer;\n",
              "      display: none;\n",
              "      fill: #1967D2;\n",
              "      height: 32px;\n",
              "      padding: 0 0 0 0;\n",
              "      width: 32px;\n",
              "    }\n",
              "\n",
              "    .colab-df-convert:hover {\n",
              "      background-color: #E2EBFA;\n",
              "      box-shadow: 0px 1px 2px rgba(60, 64, 67, 0.3), 0px 1px 3px 1px rgba(60, 64, 67, 0.15);\n",
              "      fill: #174EA6;\n",
              "    }\n",
              "\n",
              "    [theme=dark] .colab-df-convert {\n",
              "      background-color: #3B4455;\n",
              "      fill: #D2E3FC;\n",
              "    }\n",
              "\n",
              "    [theme=dark] .colab-df-convert:hover {\n",
              "      background-color: #434B5C;\n",
              "      box-shadow: 0px 1px 3px 1px rgba(0, 0, 0, 0.15);\n",
              "      filter: drop-shadow(0px 1px 2px rgba(0, 0, 0, 0.3));\n",
              "      fill: #FFFFFF;\n",
              "    }\n",
              "  </style>\n",
              "\n",
              "      <script>\n",
              "        const buttonEl =\n",
              "          document.querySelector('#df-64e766ab-979a-4de5-b94f-8799eea070a2 button.colab-df-convert');\n",
              "        buttonEl.style.display =\n",
              "          google.colab.kernel.accessAllowed ? 'block' : 'none';\n",
              "\n",
              "        async function convertToInteractive(key) {\n",
              "          const element = document.querySelector('#df-64e766ab-979a-4de5-b94f-8799eea070a2');\n",
              "          const dataTable =\n",
              "            await google.colab.kernel.invokeFunction('convertToInteractive',\n",
              "                                                     [key], {});\n",
              "          if (!dataTable) return;\n",
              "\n",
              "          const docLinkHtml = 'Like what you see? Visit the ' +\n",
              "            '<a target=\"_blank\" href=https://colab.research.google.com/notebooks/data_table.ipynb>data table notebook</a>'\n",
              "            + ' to learn more about interactive tables.';\n",
              "          element.innerHTML = '';\n",
              "          dataTable['output_type'] = 'display_data';\n",
              "          await google.colab.output.renderOutput(dataTable, element);\n",
              "          const docLink = document.createElement('div');\n",
              "          docLink.innerHTML = docLinkHtml;\n",
              "          element.appendChild(docLink);\n",
              "        }\n",
              "      </script>\n",
              "    </div>\n",
              "  </div>\n",
              "  "
            ]
          },
          "metadata": {},
          "execution_count": 79
        }
      ]
    },
    {
      "cell_type": "code",
      "source": [
        "# last four rows in new dataframe\n",
        "df_1.tail(4)"
      ],
      "metadata": {
        "colab": {
          "base_uri": "https://localhost:8080/",
          "height": 412
        },
        "id": "BLNkc8D-MPFq",
        "outputId": "6bb756b2-acf5-41b7-f4d2-2e30d67a55fb"
      },
      "execution_count": 80,
      "outputs": [
        {
          "output_type": "execute_result",
          "data": {
            "text/plain": [
              "             id                                               name   host_id  \\\n",
              "48891  36485057      Affordable room in Bushwick/East Williamsburg   6570630   \n",
              "48892  36485431            Sunny Studio at Historical Neighborhood  23492952   \n",
              "48893  36485609               43rd St. Time Square-cozy single bed  30985759   \n",
              "48894  36487245  Trendy duplex in the very heart of Hell's Kitchen  68119814   \n",
              "\n",
              "           host_name neighbourhood_group   neighbourhood        room_type  \\\n",
              "48891        Marisol            Brooklyn        Bushwick     Private room   \n",
              "48892  Ilgar & Aysel           Manhattan          Harlem  Entire home/apt   \n",
              "48893            Taz           Manhattan  Hell's Kitchen      Shared room   \n",
              "48894     Christophe           Manhattan  Hell's Kitchen     Private room   \n",
              "\n",
              "       price  minimum_nights  number_of_reviews  \\\n",
              "48891     40               4                  0   \n",
              "48892    115              10                  0   \n",
              "48893     55               1                  0   \n",
              "48894     90               7                  0   \n",
              "\n",
              "       calculated_host_listings_count  availability_365  \n",
              "48891                               2                36  \n",
              "48892                               1                27  \n",
              "48893                               6                 2  \n",
              "48894                               1                23  "
            ],
            "text/html": [
              "\n",
              "  <div id=\"df-afa1207d-2798-4f0b-be5d-9181af5d3051\">\n",
              "    <div class=\"colab-df-container\">\n",
              "      <div>\n",
              "<style scoped>\n",
              "    .dataframe tbody tr th:only-of-type {\n",
              "        vertical-align: middle;\n",
              "    }\n",
              "\n",
              "    .dataframe tbody tr th {\n",
              "        vertical-align: top;\n",
              "    }\n",
              "\n",
              "    .dataframe thead th {\n",
              "        text-align: right;\n",
              "    }\n",
              "</style>\n",
              "<table border=\"1\" class=\"dataframe\">\n",
              "  <thead>\n",
              "    <tr style=\"text-align: right;\">\n",
              "      <th></th>\n",
              "      <th>id</th>\n",
              "      <th>name</th>\n",
              "      <th>host_id</th>\n",
              "      <th>host_name</th>\n",
              "      <th>neighbourhood_group</th>\n",
              "      <th>neighbourhood</th>\n",
              "      <th>room_type</th>\n",
              "      <th>price</th>\n",
              "      <th>minimum_nights</th>\n",
              "      <th>number_of_reviews</th>\n",
              "      <th>calculated_host_listings_count</th>\n",
              "      <th>availability_365</th>\n",
              "    </tr>\n",
              "  </thead>\n",
              "  <tbody>\n",
              "    <tr>\n",
              "      <th>48891</th>\n",
              "      <td>36485057</td>\n",
              "      <td>Affordable room in Bushwick/East Williamsburg</td>\n",
              "      <td>6570630</td>\n",
              "      <td>Marisol</td>\n",
              "      <td>Brooklyn</td>\n",
              "      <td>Bushwick</td>\n",
              "      <td>Private room</td>\n",
              "      <td>40</td>\n",
              "      <td>4</td>\n",
              "      <td>0</td>\n",
              "      <td>2</td>\n",
              "      <td>36</td>\n",
              "    </tr>\n",
              "    <tr>\n",
              "      <th>48892</th>\n",
              "      <td>36485431</td>\n",
              "      <td>Sunny Studio at Historical Neighborhood</td>\n",
              "      <td>23492952</td>\n",
              "      <td>Ilgar &amp; Aysel</td>\n",
              "      <td>Manhattan</td>\n",
              "      <td>Harlem</td>\n",
              "      <td>Entire home/apt</td>\n",
              "      <td>115</td>\n",
              "      <td>10</td>\n",
              "      <td>0</td>\n",
              "      <td>1</td>\n",
              "      <td>27</td>\n",
              "    </tr>\n",
              "    <tr>\n",
              "      <th>48893</th>\n",
              "      <td>36485609</td>\n",
              "      <td>43rd St. Time Square-cozy single bed</td>\n",
              "      <td>30985759</td>\n",
              "      <td>Taz</td>\n",
              "      <td>Manhattan</td>\n",
              "      <td>Hell's Kitchen</td>\n",
              "      <td>Shared room</td>\n",
              "      <td>55</td>\n",
              "      <td>1</td>\n",
              "      <td>0</td>\n",
              "      <td>6</td>\n",
              "      <td>2</td>\n",
              "    </tr>\n",
              "    <tr>\n",
              "      <th>48894</th>\n",
              "      <td>36487245</td>\n",
              "      <td>Trendy duplex in the very heart of Hell's Kitchen</td>\n",
              "      <td>68119814</td>\n",
              "      <td>Christophe</td>\n",
              "      <td>Manhattan</td>\n",
              "      <td>Hell's Kitchen</td>\n",
              "      <td>Private room</td>\n",
              "      <td>90</td>\n",
              "      <td>7</td>\n",
              "      <td>0</td>\n",
              "      <td>1</td>\n",
              "      <td>23</td>\n",
              "    </tr>\n",
              "  </tbody>\n",
              "</table>\n",
              "</div>\n",
              "      <button class=\"colab-df-convert\" onclick=\"convertToInteractive('df-afa1207d-2798-4f0b-be5d-9181af5d3051')\"\n",
              "              title=\"Convert this dataframe to an interactive table.\"\n",
              "              style=\"display:none;\">\n",
              "        \n",
              "  <svg xmlns=\"http://www.w3.org/2000/svg\" height=\"24px\"viewBox=\"0 0 24 24\"\n",
              "       width=\"24px\">\n",
              "    <path d=\"M0 0h24v24H0V0z\" fill=\"none\"/>\n",
              "    <path d=\"M18.56 5.44l.94 2.06.94-2.06 2.06-.94-2.06-.94-.94-2.06-.94 2.06-2.06.94zm-11 1L8.5 8.5l.94-2.06 2.06-.94-2.06-.94L8.5 2.5l-.94 2.06-2.06.94zm10 10l.94 2.06.94-2.06 2.06-.94-2.06-.94-.94-2.06-.94 2.06-2.06.94z\"/><path d=\"M17.41 7.96l-1.37-1.37c-.4-.4-.92-.59-1.43-.59-.52 0-1.04.2-1.43.59L10.3 9.45l-7.72 7.72c-.78.78-.78 2.05 0 2.83L4 21.41c.39.39.9.59 1.41.59.51 0 1.02-.2 1.41-.59l7.78-7.78 2.81-2.81c.8-.78.8-2.07 0-2.86zM5.41 20L4 18.59l7.72-7.72 1.47 1.35L5.41 20z\"/>\n",
              "  </svg>\n",
              "      </button>\n",
              "      \n",
              "  <style>\n",
              "    .colab-df-container {\n",
              "      display:flex;\n",
              "      flex-wrap:wrap;\n",
              "      gap: 12px;\n",
              "    }\n",
              "\n",
              "    .colab-df-convert {\n",
              "      background-color: #E8F0FE;\n",
              "      border: none;\n",
              "      border-radius: 50%;\n",
              "      cursor: pointer;\n",
              "      display: none;\n",
              "      fill: #1967D2;\n",
              "      height: 32px;\n",
              "      padding: 0 0 0 0;\n",
              "      width: 32px;\n",
              "    }\n",
              "\n",
              "    .colab-df-convert:hover {\n",
              "      background-color: #E2EBFA;\n",
              "      box-shadow: 0px 1px 2px rgba(60, 64, 67, 0.3), 0px 1px 3px 1px rgba(60, 64, 67, 0.15);\n",
              "      fill: #174EA6;\n",
              "    }\n",
              "\n",
              "    [theme=dark] .colab-df-convert {\n",
              "      background-color: #3B4455;\n",
              "      fill: #D2E3FC;\n",
              "    }\n",
              "\n",
              "    [theme=dark] .colab-df-convert:hover {\n",
              "      background-color: #434B5C;\n",
              "      box-shadow: 0px 1px 3px 1px rgba(0, 0, 0, 0.15);\n",
              "      filter: drop-shadow(0px 1px 2px rgba(0, 0, 0, 0.3));\n",
              "      fill: #FFFFFF;\n",
              "    }\n",
              "  </style>\n",
              "\n",
              "      <script>\n",
              "        const buttonEl =\n",
              "          document.querySelector('#df-afa1207d-2798-4f0b-be5d-9181af5d3051 button.colab-df-convert');\n",
              "        buttonEl.style.display =\n",
              "          google.colab.kernel.accessAllowed ? 'block' : 'none';\n",
              "\n",
              "        async function convertToInteractive(key) {\n",
              "          const element = document.querySelector('#df-afa1207d-2798-4f0b-be5d-9181af5d3051');\n",
              "          const dataTable =\n",
              "            await google.colab.kernel.invokeFunction('convertToInteractive',\n",
              "                                                     [key], {});\n",
              "          if (!dataTable) return;\n",
              "\n",
              "          const docLinkHtml = 'Like what you see? Visit the ' +\n",
              "            '<a target=\"_blank\" href=https://colab.research.google.com/notebooks/data_table.ipynb>data table notebook</a>'\n",
              "            + ' to learn more about interactive tables.';\n",
              "          element.innerHTML = '';\n",
              "          dataTable['output_type'] = 'display_data';\n",
              "          await google.colab.output.renderOutput(dataTable, element);\n",
              "          const docLink = document.createElement('div');\n",
              "          docLink.innerHTML = docLinkHtml;\n",
              "          element.appendChild(docLink);\n",
              "        }\n",
              "      </script>\n",
              "    </div>\n",
              "  </div>\n",
              "  "
            ]
          },
          "metadata": {},
          "execution_count": 80
        }
      ]
    },
    {
      "cell_type": "markdown",
      "source": [
        "# 1. What can we learn about different hosts and areas?"
      ],
      "metadata": {
        "id": "B8USKG3xNAC2"
      }
    },
    {
      "cell_type": "code",
      "source": [
        "len(df_1['host_name'].unique())"
      ],
      "metadata": {
        "colab": {
          "base_uri": "https://localhost:8080/"
        },
        "id": "2MpkXDb-M6ie",
        "outputId": "c6360989-b104-45a9-b493-5c50dff3094b"
      },
      "execution_count": 81,
      "outputs": [
        {
          "output_type": "execute_result",
          "data": {
            "text/plain": [
              "11450"
            ]
          },
          "metadata": {},
          "execution_count": 81
        }
      ]
    },
    {
      "cell_type": "markdown",
      "source": [
        "Almost 11450 hosts are there throughout ['Brooklyn', 'Manhattan', 'Queens', 'Staten Island', 'Bronx']."
      ],
      "metadata": {
        "id": "Cl2wJhuvsHMA"
      }
    },
    {
      "cell_type": "code",
      "source": [
        "len(df_1['id'].unique())"
      ],
      "metadata": {
        "colab": {
          "base_uri": "https://localhost:8080/"
        },
        "id": "V4olN1uxAYCx",
        "outputId": "4836c2fa-475c-46b9-b21f-7db08f459d38"
      },
      "execution_count": 82,
      "outputs": [
        {
          "output_type": "execute_result",
          "data": {
            "text/plain": [
              "48858"
            ]
          },
          "metadata": {},
          "execution_count": 82
        }
      ]
    },
    {
      "cell_type": "markdown",
      "source": [
        "the length of unique ids are same as number of rows, which means each row has unique id."
      ],
      "metadata": {
        "id": "sTLX8qVZBTl2"
      }
    },
    {
      "cell_type": "code",
      "source": [
        "len(df_1['host_id'].unique())"
      ],
      "metadata": {
        "colab": {
          "base_uri": "https://localhost:8080/"
        },
        "id": "ixCO-wnhAen7",
        "outputId": "5c5c0eac-29b4-43fe-e31c-6f7bef2b0e1f"
      },
      "execution_count": 83,
      "outputs": [
        {
          "output_type": "execute_result",
          "data": {
            "text/plain": [
              "37425"
            ]
          },
          "metadata": {},
          "execution_count": 83
        }
      ]
    },
    {
      "cell_type": "markdown",
      "source": [
        "The length of unique host names is different from the length of unique host ids. This means the a host may have different host_id based on location and room type they are providing."
      ],
      "metadata": {
        "id": "xwN8c_u3ApxK"
      }
    },
    {
      "cell_type": "code",
      "source": [
        "len(df_1['neighbourhood'].unique())"
      ],
      "metadata": {
        "colab": {
          "base_uri": "https://localhost:8080/"
        },
        "id": "9tH4xeGXOv4x",
        "outputId": "ca758ee2-fdae-4a44-c9b3-07d96d182197"
      },
      "execution_count": 84,
      "outputs": [
        {
          "output_type": "execute_result",
          "data": {
            "text/plain": [
              "221"
            ]
          },
          "metadata": {},
          "execution_count": 84
        }
      ]
    },
    {
      "cell_type": "markdown",
      "source": [
        "Around 221 cities are there in our data set. And these cities divided into five neighbourhood groups.\n"
      ],
      "metadata": {
        "id": "VeHDssXisi3l"
      }
    },
    {
      "cell_type": "code",
      "source": [
        "len(df_1['neighbourhood_group'].unique())"
      ],
      "metadata": {
        "colab": {
          "base_uri": "https://localhost:8080/"
        },
        "id": "gj_8YgOhQgT-",
        "outputId": "e861360e-ff47-4881-dc66-fc7023a674d5"
      },
      "execution_count": 85,
      "outputs": [
        {
          "output_type": "execute_result",
          "data": {
            "text/plain": [
              "5"
            ]
          },
          "metadata": {},
          "execution_count": 85
        }
      ]
    },
    {
      "cell_type": "code",
      "source": [
        "df_1['neighbourhood_group'].unique()"
      ],
      "metadata": {
        "colab": {
          "base_uri": "https://localhost:8080/"
        },
        "id": "RfOn3gAIQpRo",
        "outputId": "55592a16-6ff5-482f-ca46-30baa40de1c6"
      },
      "execution_count": 86,
      "outputs": [
        {
          "output_type": "execute_result",
          "data": {
            "text/plain": [
              "array(['Brooklyn', 'Manhattan', 'Queens', 'Staten Island', 'Bronx'],\n",
              "      dtype=object)"
            ]
          },
          "metadata": {},
          "execution_count": 86
        }
      ]
    },
    {
      "cell_type": "code",
      "source": [
        "hosts_neigbr_group = df_1.groupby(['host_name','neighbourhood_group'])['calculated_host_listings_count'].max().reset_index()\n",
        "hosts_neigbr_group.sort_values(by='calculated_host_listings_count', ascending=False).head(10)"
      ],
      "metadata": {
        "id": "gNQaP-mlQtBu",
        "colab": {
          "base_uri": "https://localhost:8080/",
          "height": 363
        },
        "outputId": "9de48092-fc82-4e35-e09d-e3e270882b25"
      },
      "execution_count": 87,
      "outputs": [
        {
          "output_type": "execute_result",
          "data": {
            "text/plain": [
              "               host_name neighbourhood_group  calculated_host_listings_count\n",
              "13214       Sonder (NYC)           Manhattan                             327\n",
              "1832          Blueground            Brooklyn                             232\n",
              "1833          Blueground           Manhattan                             232\n",
              "7273                Kara           Manhattan                             121\n",
              "7476              Kazuya            Brooklyn                             103\n",
              "7477              Kazuya           Manhattan                             103\n",
              "7478              Kazuya              Queens                             103\n",
              "6538      Jeremy & Laura           Manhattan                              96\n",
              "13213             Sonder           Manhattan                              96\n",
              "2900   Corporate Housing           Manhattan                              91"
            ],
            "text/html": [
              "\n",
              "  <div id=\"df-f51835df-486e-488b-bb71-e884094075dd\">\n",
              "    <div class=\"colab-df-container\">\n",
              "      <div>\n",
              "<style scoped>\n",
              "    .dataframe tbody tr th:only-of-type {\n",
              "        vertical-align: middle;\n",
              "    }\n",
              "\n",
              "    .dataframe tbody tr th {\n",
              "        vertical-align: top;\n",
              "    }\n",
              "\n",
              "    .dataframe thead th {\n",
              "        text-align: right;\n",
              "    }\n",
              "</style>\n",
              "<table border=\"1\" class=\"dataframe\">\n",
              "  <thead>\n",
              "    <tr style=\"text-align: right;\">\n",
              "      <th></th>\n",
              "      <th>host_name</th>\n",
              "      <th>neighbourhood_group</th>\n",
              "      <th>calculated_host_listings_count</th>\n",
              "    </tr>\n",
              "  </thead>\n",
              "  <tbody>\n",
              "    <tr>\n",
              "      <th>13214</th>\n",
              "      <td>Sonder (NYC)</td>\n",
              "      <td>Manhattan</td>\n",
              "      <td>327</td>\n",
              "    </tr>\n",
              "    <tr>\n",
              "      <th>1832</th>\n",
              "      <td>Blueground</td>\n",
              "      <td>Brooklyn</td>\n",
              "      <td>232</td>\n",
              "    </tr>\n",
              "    <tr>\n",
              "      <th>1833</th>\n",
              "      <td>Blueground</td>\n",
              "      <td>Manhattan</td>\n",
              "      <td>232</td>\n",
              "    </tr>\n",
              "    <tr>\n",
              "      <th>7273</th>\n",
              "      <td>Kara</td>\n",
              "      <td>Manhattan</td>\n",
              "      <td>121</td>\n",
              "    </tr>\n",
              "    <tr>\n",
              "      <th>7476</th>\n",
              "      <td>Kazuya</td>\n",
              "      <td>Brooklyn</td>\n",
              "      <td>103</td>\n",
              "    </tr>\n",
              "    <tr>\n",
              "      <th>7477</th>\n",
              "      <td>Kazuya</td>\n",
              "      <td>Manhattan</td>\n",
              "      <td>103</td>\n",
              "    </tr>\n",
              "    <tr>\n",
              "      <th>7478</th>\n",
              "      <td>Kazuya</td>\n",
              "      <td>Queens</td>\n",
              "      <td>103</td>\n",
              "    </tr>\n",
              "    <tr>\n",
              "      <th>6538</th>\n",
              "      <td>Jeremy &amp; Laura</td>\n",
              "      <td>Manhattan</td>\n",
              "      <td>96</td>\n",
              "    </tr>\n",
              "    <tr>\n",
              "      <th>13213</th>\n",
              "      <td>Sonder</td>\n",
              "      <td>Manhattan</td>\n",
              "      <td>96</td>\n",
              "    </tr>\n",
              "    <tr>\n",
              "      <th>2900</th>\n",
              "      <td>Corporate Housing</td>\n",
              "      <td>Manhattan</td>\n",
              "      <td>91</td>\n",
              "    </tr>\n",
              "  </tbody>\n",
              "</table>\n",
              "</div>\n",
              "      <button class=\"colab-df-convert\" onclick=\"convertToInteractive('df-f51835df-486e-488b-bb71-e884094075dd')\"\n",
              "              title=\"Convert this dataframe to an interactive table.\"\n",
              "              style=\"display:none;\">\n",
              "        \n",
              "  <svg xmlns=\"http://www.w3.org/2000/svg\" height=\"24px\"viewBox=\"0 0 24 24\"\n",
              "       width=\"24px\">\n",
              "    <path d=\"M0 0h24v24H0V0z\" fill=\"none\"/>\n",
              "    <path d=\"M18.56 5.44l.94 2.06.94-2.06 2.06-.94-2.06-.94-.94-2.06-.94 2.06-2.06.94zm-11 1L8.5 8.5l.94-2.06 2.06-.94-2.06-.94L8.5 2.5l-.94 2.06-2.06.94zm10 10l.94 2.06.94-2.06 2.06-.94-2.06-.94-.94-2.06-.94 2.06-2.06.94z\"/><path d=\"M17.41 7.96l-1.37-1.37c-.4-.4-.92-.59-1.43-.59-.52 0-1.04.2-1.43.59L10.3 9.45l-7.72 7.72c-.78.78-.78 2.05 0 2.83L4 21.41c.39.39.9.59 1.41.59.51 0 1.02-.2 1.41-.59l7.78-7.78 2.81-2.81c.8-.78.8-2.07 0-2.86zM5.41 20L4 18.59l7.72-7.72 1.47 1.35L5.41 20z\"/>\n",
              "  </svg>\n",
              "      </button>\n",
              "      \n",
              "  <style>\n",
              "    .colab-df-container {\n",
              "      display:flex;\n",
              "      flex-wrap:wrap;\n",
              "      gap: 12px;\n",
              "    }\n",
              "\n",
              "    .colab-df-convert {\n",
              "      background-color: #E8F0FE;\n",
              "      border: none;\n",
              "      border-radius: 50%;\n",
              "      cursor: pointer;\n",
              "      display: none;\n",
              "      fill: #1967D2;\n",
              "      height: 32px;\n",
              "      padding: 0 0 0 0;\n",
              "      width: 32px;\n",
              "    }\n",
              "\n",
              "    .colab-df-convert:hover {\n",
              "      background-color: #E2EBFA;\n",
              "      box-shadow: 0px 1px 2px rgba(60, 64, 67, 0.3), 0px 1px 3px 1px rgba(60, 64, 67, 0.15);\n",
              "      fill: #174EA6;\n",
              "    }\n",
              "\n",
              "    [theme=dark] .colab-df-convert {\n",
              "      background-color: #3B4455;\n",
              "      fill: #D2E3FC;\n",
              "    }\n",
              "\n",
              "    [theme=dark] .colab-df-convert:hover {\n",
              "      background-color: #434B5C;\n",
              "      box-shadow: 0px 1px 3px 1px rgba(0, 0, 0, 0.15);\n",
              "      filter: drop-shadow(0px 1px 2px rgba(0, 0, 0, 0.3));\n",
              "      fill: #FFFFFF;\n",
              "    }\n",
              "  </style>\n",
              "\n",
              "      <script>\n",
              "        const buttonEl =\n",
              "          document.querySelector('#df-f51835df-486e-488b-bb71-e884094075dd button.colab-df-convert');\n",
              "        buttonEl.style.display =\n",
              "          google.colab.kernel.accessAllowed ? 'block' : 'none';\n",
              "\n",
              "        async function convertToInteractive(key) {\n",
              "          const element = document.querySelector('#df-f51835df-486e-488b-bb71-e884094075dd');\n",
              "          const dataTable =\n",
              "            await google.colab.kernel.invokeFunction('convertToInteractive',\n",
              "                                                     [key], {});\n",
              "          if (!dataTable) return;\n",
              "\n",
              "          const docLinkHtml = 'Like what you see? Visit the ' +\n",
              "            '<a target=\"_blank\" href=https://colab.research.google.com/notebooks/data_table.ipynb>data table notebook</a>'\n",
              "            + ' to learn more about interactive tables.';\n",
              "          element.innerHTML = '';\n",
              "          dataTable['output_type'] = 'display_data';\n",
              "          await google.colab.output.renderOutput(dataTable, element);\n",
              "          const docLink = document.createElement('div');\n",
              "          docLink.innerHTML = docLinkHtml;\n",
              "          element.appendChild(docLink);\n",
              "        }\n",
              "      </script>\n",
              "    </div>\n",
              "  </div>\n",
              "  "
            ]
          },
          "metadata": {},
          "execution_count": 87
        }
      ]
    },
    {
      "cell_type": "code",
      "source": [
        "# distict neighbourhood_group are five. So we can get count plot for these 5 categories.\n",
        "sns.countplot(x='neighbourhood_group',data=df_1) "
      ],
      "metadata": {
        "colab": {
          "base_uri": "https://localhost:8080/",
          "height": 297
        },
        "id": "wLYHmZajuB-i",
        "outputId": "f69be446-8378-44fb-ede6-c56084bad04c"
      },
      "execution_count": 88,
      "outputs": [
        {
          "output_type": "execute_result",
          "data": {
            "text/plain": [
              "<matplotlib.axes._subplots.AxesSubplot at 0x7f00bc3a38d0>"
            ]
          },
          "metadata": {},
          "execution_count": 88
        },
        {
          "output_type": "display_data",
          "data": {
            "text/plain": [
              "<Figure size 432x288 with 1 Axes>"
            ],
            "image/png": "[encoded data removed]"
          },
          "metadata": {
            "needs_background": "light"
          }
        }
      ]
    },
    {
      "cell_type": "markdown",
      "source": [
        "## As we can see the most number of entries are from Manhattan followed by Brooklyn, Queens, Bronx and Staten Island. The host named Sonder (NYC) has maximum number of host_listings count."
      ],
      "metadata": {
        "id": "vcLAZPA3vXtg"
      }
    },
    {
      "cell_type": "code",
      "source": [
        "hosts_neigbr_group = df_1.groupby(['name','host_name','neighbourhood_group'])['calculated_host_listings_count'].max().reset_index()\n",
        "hosts_neigbr_group.sort_values(by='calculated_host_listings_count', ascending=False).head(10)"
      ],
      "metadata": {
        "colab": {
          "base_uri": "https://localhost:8080/",
          "height": 363
        },
        "id": "tvU5589FxHHc",
        "outputId": "a20eb521-aa31-47c5-a349-30101c0287e5"
      },
      "execution_count": 89,
      "outputs": [
        {
          "output_type": "execute_result",
          "data": {
            "text/plain": [
              "                                                   name     host_name  \\\n",
              "38419       Sonder | 180 Water | Pleasant 2BR + Rooftop  Sonder (NYC)   \n",
              "38492  Sonder | Stock Exchange | Calming 1BR + Sofa Bed  Sonder (NYC)   \n",
              "38700    Sonder | Wall Street | Quaint Studio + Kitchen  Sonder (NYC)   \n",
              "38494  Sonder | Stock Exchange | Calming 3BR + Sofa Bed  Sonder (NYC)   \n",
              "38495   Sonder | Stock Exchange | Central 1BR + Kitchen  Sonder (NYC)   \n",
              "38496  Sonder | Stock Exchange | Central 1BR + Sofa Bed  Sonder (NYC)   \n",
              "38497    Sonder | Stock Exchange | Central 2BR + Lounge  Sonder (NYC)   \n",
              "38498      Sonder | Stock Exchange | Chic 1BR + Kitchen  Sonder (NYC)   \n",
              "38499      Sonder | Stock Exchange | Chic 1BR + Laundry  Sonder (NYC)   \n",
              "38500     Sonder | Stock Exchange | Chic 1BR + Sofa Bed  Sonder (NYC)   \n",
              "\n",
              "      neighbourhood_group  calculated_host_listings_count  \n",
              "38419           Manhattan                             327  \n",
              "38492           Manhattan                             327  \n",
              "38700           Manhattan                             327  \n",
              "38494           Manhattan                             327  \n",
              "38495           Manhattan                             327  \n",
              "38496           Manhattan                             327  \n",
              "38497           Manhattan                             327  \n",
              "38498           Manhattan                             327  \n",
              "38499           Manhattan                             327  \n",
              "38500           Manhattan                             327  "
            ],
            "text/html": [
              "\n",
              "  <div id=\"df-7d42cb22-107b-481f-aed7-96884c4eaf22\">\n",
              "    <div class=\"colab-df-container\">\n",
              "      <div>\n",
              "<style scoped>\n",
              "    .dataframe tbody tr th:only-of-type {\n",
              "        vertical-align: middle;\n",
              "    }\n",
              "\n",
              "    .dataframe tbody tr th {\n",
              "        vertical-align: top;\n",
              "    }\n",
              "\n",
              "    .dataframe thead th {\n",
              "        text-align: right;\n",
              "    }\n",
              "</style>\n",
              "<table border=\"1\" class=\"dataframe\">\n",
              "  <thead>\n",
              "    <tr style=\"text-align: right;\">\n",
              "      <th></th>\n",
              "      <th>name</th>\n",
              "      <th>host_name</th>\n",
              "      <th>neighbourhood_group</th>\n",
              "      <th>calculated_host_listings_count</th>\n",
              "    </tr>\n",
              "  </thead>\n",
              "  <tbody>\n",
              "    <tr>\n",
              "      <th>38419</th>\n",
              "      <td>Sonder | 180 Water | Pleasant 2BR + Rooftop</td>\n",
              "      <td>Sonder (NYC)</td>\n",
              "      <td>Manhattan</td>\n",
              "      <td>327</td>\n",
              "    </tr>\n",
              "    <tr>\n",
              "      <th>38492</th>\n",
              "      <td>Sonder | Stock Exchange | Calming 1BR + Sofa Bed</td>\n",
              "      <td>Sonder (NYC)</td>\n",
              "      <td>Manhattan</td>\n",
              "      <td>327</td>\n",
              "    </tr>\n",
              "    <tr>\n",
              "      <th>38700</th>\n",
              "      <td>Sonder | Wall Street | Quaint Studio + Kitchen</td>\n",
              "      <td>Sonder (NYC)</td>\n",
              "      <td>Manhattan</td>\n",
              "      <td>327</td>\n",
              "    </tr>\n",
              "    <tr>\n",
              "      <th>38494</th>\n",
              "      <td>Sonder | Stock Exchange | Calming 3BR + Sofa Bed</td>\n",
              "      <td>Sonder (NYC)</td>\n",
              "      <td>Manhattan</td>\n",
              "      <td>327</td>\n",
              "    </tr>\n",
              "    <tr>\n",
              "      <th>38495</th>\n",
              "      <td>Sonder | Stock Exchange | Central 1BR + Kitchen</td>\n",
              "      <td>Sonder (NYC)</td>\n",
              "      <td>Manhattan</td>\n",
              "      <td>327</td>\n",
              "    </tr>\n",
              "    <tr>\n",
              "      <th>38496</th>\n",
              "      <td>Sonder | Stock Exchange | Central 1BR + Sofa Bed</td>\n",
              "      <td>Sonder (NYC)</td>\n",
              "      <td>Manhattan</td>\n",
              "      <td>327</td>\n",
              "    </tr>\n",
              "    <tr>\n",
              "      <th>38497</th>\n",
              "      <td>Sonder | Stock Exchange | Central 2BR + Lounge</td>\n",
              "      <td>Sonder (NYC)</td>\n",
              "      <td>Manhattan</td>\n",
              "      <td>327</td>\n",
              "    </tr>\n",
              "    <tr>\n",
              "      <th>38498</th>\n",
              "      <td>Sonder | Stock Exchange | Chic 1BR + Kitchen</td>\n",
              "      <td>Sonder (NYC)</td>\n",
              "      <td>Manhattan</td>\n",
              "      <td>327</td>\n",
              "    </tr>\n",
              "    <tr>\n",
              "      <th>38499</th>\n",
              "      <td>Sonder | Stock Exchange | Chic 1BR + Laundry</td>\n",
              "      <td>Sonder (NYC)</td>\n",
              "      <td>Manhattan</td>\n",
              "      <td>327</td>\n",
              "    </tr>\n",
              "    <tr>\n",
              "      <th>38500</th>\n",
              "      <td>Sonder | Stock Exchange | Chic 1BR + Sofa Bed</td>\n",
              "      <td>Sonder (NYC)</td>\n",
              "      <td>Manhattan</td>\n",
              "      <td>327</td>\n",
              "    </tr>\n",
              "  </tbody>\n",
              "</table>\n",
              "</div>\n",
              "      <button class=\"colab-df-convert\" onclick=\"convertToInteractive('df-7d42cb22-107b-481f-aed7-96884c4eaf22')\"\n",
              "              title=\"Convert this dataframe to an interactive table.\"\n",
              "              style=\"display:none;\">\n",
              "        \n",
              "  <svg xmlns=\"http://www.w3.org/2000/svg\" height=\"24px\"viewBox=\"0 0 24 24\"\n",
              "       width=\"24px\">\n",
              "    <path d=\"M0 0h24v24H0V0z\" fill=\"none\"/>\n",
              "    <path d=\"M18.56 5.44l.94 2.06.94-2.06 2.06-.94-2.06-.94-.94-2.06-.94 2.06-2.06.94zm-11 1L8.5 8.5l.94-2.06 2.06-.94-2.06-.94L8.5 2.5l-.94 2.06-2.06.94zm10 10l.94 2.06.94-2.06 2.06-.94-2.06-.94-.94-2.06-.94 2.06-2.06.94z\"/><path d=\"M17.41 7.96l-1.37-1.37c-.4-.4-.92-.59-1.43-.59-.52 0-1.04.2-1.43.59L10.3 9.45l-7.72 7.72c-.78.78-.78 2.05 0 2.83L4 21.41c.39.39.9.59 1.41.59.51 0 1.02-.2 1.41-.59l7.78-7.78 2.81-2.81c.8-.78.8-2.07 0-2.86zM5.41 20L4 18.59l7.72-7.72 1.47 1.35L5.41 20z\"/>\n",
              "  </svg>\n",
              "      </button>\n",
              "      \n",
              "  <style>\n",
              "    .colab-df-container {\n",
              "      display:flex;\n",
              "      flex-wrap:wrap;\n",
              "      gap: 12px;\n",
              "    }\n",
              "\n",
              "    .colab-df-convert {\n",
              "      background-color: #E8F0FE;\n",
              "      border: none;\n",
              "      border-radius: 50%;\n",
              "      cursor: pointer;\n",
              "      display: none;\n",
              "      fill: #1967D2;\n",
              "      height: 32px;\n",
              "      padding: 0 0 0 0;\n",
              "      width: 32px;\n",
              "    }\n",
              "\n",
              "    .colab-df-convert:hover {\n",
              "      background-color: #E2EBFA;\n",
              "      box-shadow: 0px 1px 2px rgba(60, 64, 67, 0.3), 0px 1px 3px 1px rgba(60, 64, 67, 0.15);\n",
              "      fill: #174EA6;\n",
              "    }\n",
              "\n",
              "    [theme=dark] .colab-df-convert {\n",
              "      background-color: #3B4455;\n",
              "      fill: #D2E3FC;\n",
              "    }\n",
              "\n",
              "    [theme=dark] .colab-df-convert:hover {\n",
              "      background-color: #434B5C;\n",
              "      box-shadow: 0px 1px 3px 1px rgba(0, 0, 0, 0.15);\n",
              "      filter: drop-shadow(0px 1px 2px rgba(0, 0, 0, 0.3));\n",
              "      fill: #FFFFFF;\n",
              "    }\n",
              "  </style>\n",
              "\n",
              "      <script>\n",
              "        const buttonEl =\n",
              "          document.querySelector('#df-7d42cb22-107b-481f-aed7-96884c4eaf22 button.colab-df-convert');\n",
              "        buttonEl.style.display =\n",
              "          google.colab.kernel.accessAllowed ? 'block' : 'none';\n",
              "\n",
              "        async function convertToInteractive(key) {\n",
              "          const element = document.querySelector('#df-7d42cb22-107b-481f-aed7-96884c4eaf22');\n",
              "          const dataTable =\n",
              "            await google.colab.kernel.invokeFunction('convertToInteractive',\n",
              "                                                     [key], {});\n",
              "          if (!dataTable) return;\n",
              "\n",
              "          const docLinkHtml = 'Like what you see? Visit the ' +\n",
              "            '<a target=\"_blank\" href=https://colab.research.google.com/notebooks/data_table.ipynb>data table notebook</a>'\n",
              "            + ' to learn more about interactive tables.';\n",
              "          element.innerHTML = '';\n",
              "          dataTable['output_type'] = 'display_data';\n",
              "          await google.colab.output.renderOutput(dataTable, element);\n",
              "          const docLink = document.createElement('div');\n",
              "          docLink.innerHTML = docLinkHtml;\n",
              "          element.appendChild(docLink);\n",
              "        }\n",
              "      </script>\n",
              "    </div>\n",
              "  </div>\n",
              "  "
            ]
          },
          "metadata": {},
          "execution_count": 89
        }
      ]
    },
    {
      "cell_type": "code",
      "source": [
        "sns.countplot(x='neighbourhood_group',hue='room_type',data=df_1) "
      ],
      "metadata": {
        "colab": {
          "base_uri": "https://localhost:8080/",
          "height": 297
        },
        "id": "5DRxriyj_ue7",
        "outputId": "8d302f23-4f00-4d1c-fd55-cb0d694d9dd3"
      },
      "execution_count": 90,
      "outputs": [
        {
          "output_type": "execute_result",
          "data": {
            "text/plain": [
              "<matplotlib.axes._subplots.AxesSubplot at 0x7f00bbd99450>"
            ]
          },
          "metadata": {},
          "execution_count": 90
        },
        {
          "output_type": "display_data",
          "data": {
            "text/plain": [
              "<Figure size 432x288 with 1 Axes>"
            ],
            "image/png": "[encoded data removed]"
          },
          "metadata": {
            "needs_background": "light"
          }
        }
      ]
    },
    {
      "cell_type": "markdown",
      "source": [
        "## 1. Broklin: Hosts are proving more number of private rooms than Entire home/apt and shared rooms\n",
        "## 2. Manhattan: Hosts are providing more number of Entire home/apt than the number of private rooms\n",
        "## 3. Queens: Hosts are providing more number of private rooms compared to entire home/apt.\n",
        "## 4. Bronx: Hosts are providing more number of private rooms compared to entire home/apt.\n",
        "## 5. Staten Island: Hosts are providing more number of private rooms compared to entire home/apt.\n",
        "\n",
        "## In every neighbour hood group, the percentage of shared rooms are less compared other room types."
      ],
      "metadata": {
        "id": "3T7k-DU-CNVm"
      }
    },
    {
      "cell_type": "code",
      "source": [
        "# check whether shared room available in staten island\n",
        "df_1[df_1[\"neighbourhood_group\"]==\"Staten Island\"][\"room_type\"].value_counts()"
      ],
      "metadata": {
        "colab": {
          "base_uri": "https://localhost:8080/"
        },
        "id": "o11ABLY-E_Xx",
        "outputId": "b5d06924-8417-4266-80f4-4fd10b12bd1b"
      },
      "execution_count": 91,
      "outputs": [
        {
          "output_type": "execute_result",
          "data": {
            "text/plain": [
              "Private room       188\n",
              "Entire home/apt    176\n",
              "Shared room          9\n",
              "Name: room_type, dtype: int64"
            ]
          },
          "metadata": {},
          "execution_count": 91
        }
      ]
    },
    {
      "cell_type": "code",
      "source": [
        "# check whether shared room available in Bronx or not.\n",
        "df_1[df_1[\"neighbourhood_group\"]==\"Bronx\"][\"room_type\"].value_counts()"
      ],
      "metadata": {
        "colab": {
          "base_uri": "https://localhost:8080/"
        },
        "id": "y_kdM9EIGfGy",
        "outputId": "bfd7c415-6a63-4104-b006-b078a4deef23"
      },
      "execution_count": 92,
      "outputs": [
        {
          "output_type": "execute_result",
          "data": {
            "text/plain": [
              "Private room       652\n",
              "Entire home/apt    378\n",
              "Shared room         59\n",
              "Name: room_type, dtype: int64"
            ]
          },
          "metadata": {},
          "execution_count": 92
        }
      ]
    },
    {
      "cell_type": "code",
      "source": [
        "sns.countplot(x='room_type',data=df_1) "
      ],
      "metadata": {
        "colab": {
          "base_uri": "https://localhost:8080/",
          "height": 297
        },
        "id": "j4sUgFV_AGua",
        "outputId": "024f5d39-4ace-4067-81c7-fc249a0cda48"
      },
      "execution_count": 93,
      "outputs": [
        {
          "output_type": "execute_result",
          "data": {
            "text/plain": [
              "<matplotlib.axes._subplots.AxesSubplot at 0x7f00bbcccc90>"
            ]
          },
          "metadata": {},
          "execution_count": 93
        },
        {
          "output_type": "display_data",
          "data": {
            "text/plain": [
              "<Figure size 432x288 with 1 Axes>"
            ],
            "image/png": "[encoded data removed]"
          },
          "metadata": {
            "needs_background": "light"
          }
        }
      ]
    },
    {
      "cell_type": "markdown",
      "source": [
        "## Compared to shared rooms, the hosts are providing Entire home/apt and private room."
      ],
      "metadata": {
        "id": "1PExwkGwBzTq"
      }
    },
    {
      "cell_type": "markdown",
      "source": [
        "# 2. What can we learn from predictions? (ex: locations, prices, reviews, etc)\n",
        "\n",
        "Let us know about reviews,prices and neighbourhood locations."
      ],
      "metadata": {
        "id": "bq73QI1uyIfM"
      }
    },
    {
      "cell_type": "code",
      "source": [
        "# maximum number of reviews among all entries in every neighbourhood group\n",
        "neighbourhood_group_reviews = df_1.groupby(['neighbourhood_group'])['number_of_reviews'].max().reset_index()\n",
        "neighbourhood_group_reviews"
      ],
      "metadata": {
        "colab": {
          "base_uri": "https://localhost:8080/",
          "height": 206
        },
        "id": "4wBPEFQ00ZlC",
        "outputId": "19d9e114-ea02-45cd-f5a5-1adcaf90b073"
      },
      "execution_count": 94,
      "outputs": [
        {
          "output_type": "execute_result",
          "data": {
            "text/plain": [
              "  neighbourhood_group  number_of_reviews\n",
              "0               Bronx                321\n",
              "1            Brooklyn                488\n",
              "2           Manhattan                607\n",
              "3              Queens                629\n",
              "4       Staten Island                333"
            ],
            "text/html": [
              "\n",
              "  <div id=\"df-50660447-3b7f-462f-9460-2a3bef7287e9\">\n",
              "    <div class=\"colab-df-container\">\n",
              "      <div>\n",
              "<style scoped>\n",
              "    .dataframe tbody tr th:only-of-type {\n",
              "        vertical-align: middle;\n",
              "    }\n",
              "\n",
              "    .dataframe tbody tr th {\n",
              "        vertical-align: top;\n",
              "    }\n",
              "\n",
              "    .dataframe thead th {\n",
              "        text-align: right;\n",
              "    }\n",
              "</style>\n",
              "<table border=\"1\" class=\"dataframe\">\n",
              "  <thead>\n",
              "    <tr style=\"text-align: right;\">\n",
              "      <th></th>\n",
              "      <th>neighbourhood_group</th>\n",
              "      <th>number_of_reviews</th>\n",
              "    </tr>\n",
              "  </thead>\n",
              "  <tbody>\n",
              "    <tr>\n",
              "      <th>0</th>\n",
              "      <td>Bronx</td>\n",
              "      <td>321</td>\n",
              "    </tr>\n",
              "    <tr>\n",
              "      <th>1</th>\n",
              "      <td>Brooklyn</td>\n",
              "      <td>488</td>\n",
              "    </tr>\n",
              "    <tr>\n",
              "      <th>2</th>\n",
              "      <td>Manhattan</td>\n",
              "      <td>607</td>\n",
              "    </tr>\n",
              "    <tr>\n",
              "      <th>3</th>\n",
              "      <td>Queens</td>\n",
              "      <td>629</td>\n",
              "    </tr>\n",
              "    <tr>\n",
              "      <th>4</th>\n",
              "      <td>Staten Island</td>\n",
              "      <td>333</td>\n",
              "    </tr>\n",
              "  </tbody>\n",
              "</table>\n",
              "</div>\n",
              "      <button class=\"colab-df-convert\" onclick=\"convertToInteractive('df-50660447-3b7f-462f-9460-2a3bef7287e9')\"\n",
              "              title=\"Convert this dataframe to an interactive table.\"\n",
              "              style=\"display:none;\">\n",
              "        \n",
              "  <svg xmlns=\"http://www.w3.org/2000/svg\" height=\"24px\"viewBox=\"0 0 24 24\"\n",
              "       width=\"24px\">\n",
              "    <path d=\"M0 0h24v24H0V0z\" fill=\"none\"/>\n",
              "    <path d=\"M18.56 5.44l.94 2.06.94-2.06 2.06-.94-2.06-.94-.94-2.06-.94 2.06-2.06.94zm-11 1L8.5 8.5l.94-2.06 2.06-.94-2.06-.94L8.5 2.5l-.94 2.06-2.06.94zm10 10l.94 2.06.94-2.06 2.06-.94-2.06-.94-.94-2.06-.94 2.06-2.06.94z\"/><path d=\"M17.41 7.96l-1.37-1.37c-.4-.4-.92-.59-1.43-.59-.52 0-1.04.2-1.43.59L10.3 9.45l-7.72 7.72c-.78.78-.78 2.05 0 2.83L4 21.41c.39.39.9.59 1.41.59.51 0 1.02-.2 1.41-.59l7.78-7.78 2.81-2.81c.8-.78.8-2.07 0-2.86zM5.41 20L4 18.59l7.72-7.72 1.47 1.35L5.41 20z\"/>\n",
              "  </svg>\n",
              "      </button>\n",
              "      \n",
              "  <style>\n",
              "    .colab-df-container {\n",
              "      display:flex;\n",
              "      flex-wrap:wrap;\n",
              "      gap: 12px;\n",
              "    }\n",
              "\n",
              "    .colab-df-convert {\n",
              "      background-color: #E8F0FE;\n",
              "      border: none;\n",
              "      border-radius: 50%;\n",
              "      cursor: pointer;\n",
              "      display: none;\n",
              "      fill: #1967D2;\n",
              "      height: 32px;\n",
              "      padding: 0 0 0 0;\n",
              "      width: 32px;\n",
              "    }\n",
              "\n",
              "    .colab-df-convert:hover {\n",
              "      background-color: #E2EBFA;\n",
              "      box-shadow: 0px 1px 2px rgba(60, 64, 67, 0.3), 0px 1px 3px 1px rgba(60, 64, 67, 0.15);\n",
              "      fill: #174EA6;\n",
              "    }\n",
              "\n",
              "    [theme=dark] .colab-df-convert {\n",
              "      background-color: #3B4455;\n",
              "      fill: #D2E3FC;\n",
              "    }\n",
              "\n",
              "    [theme=dark] .colab-df-convert:hover {\n",
              "      background-color: #434B5C;\n",
              "      box-shadow: 0px 1px 3px 1px rgba(0, 0, 0, 0.15);\n",
              "      filter: drop-shadow(0px 1px 2px rgba(0, 0, 0, 0.3));\n",
              "      fill: #FFFFFF;\n",
              "    }\n",
              "  </style>\n",
              "\n",
              "      <script>\n",
              "        const buttonEl =\n",
              "          document.querySelector('#df-50660447-3b7f-462f-9460-2a3bef7287e9 button.colab-df-convert');\n",
              "        buttonEl.style.display =\n",
              "          google.colab.kernel.accessAllowed ? 'block' : 'none';\n",
              "\n",
              "        async function convertToInteractive(key) {\n",
              "          const element = document.querySelector('#df-50660447-3b7f-462f-9460-2a3bef7287e9');\n",
              "          const dataTable =\n",
              "            await google.colab.kernel.invokeFunction('convertToInteractive',\n",
              "                                                     [key], {});\n",
              "          if (!dataTable) return;\n",
              "\n",
              "          const docLinkHtml = 'Like what you see? Visit the ' +\n",
              "            '<a target=\"_blank\" href=https://colab.research.google.com/notebooks/data_table.ipynb>data table notebook</a>'\n",
              "            + ' to learn more about interactive tables.';\n",
              "          element.innerHTML = '';\n",
              "          dataTable['output_type'] = 'display_data';\n",
              "          await google.colab.output.renderOutput(dataTable, element);\n",
              "          const docLink = document.createElement('div');\n",
              "          docLink.innerHTML = docLinkHtml;\n",
              "          element.appendChild(docLink);\n",
              "        }\n",
              "      </script>\n",
              "    </div>\n",
              "  </div>\n",
              "  "
            ]
          },
          "metadata": {},
          "execution_count": 94
        }
      ]
    },
    {
      "cell_type": "code",
      "source": [
        "# locations=neighbourhood_group_reviews[\"neighbourhood_group\"]\n",
        "# max_num_reviews=neighbourhood_group_reviews[\"number_of_reviews\"]\n",
        "# creating the bar plot\n",
        "sns.barplot(x=\"neighbourhood_group\",y=\"number_of_reviews\",data=neighbourhood_group_reviews)\n",
        " \n",
        "plt.xlabel(\"location\")\n",
        "plt.ylabel(\"maximum number of reviews\")\n",
        "plt.title(\" Max Number of reviews Vs location\")"
      ],
      "metadata": {
        "colab": {
          "base_uri": "https://localhost:8080/",
          "height": 312
        },
        "id": "pttvpCxSxYw2",
        "outputId": "bc5f81c0-93fb-49d2-e8e4-bc509c445b72"
      },
      "execution_count": 95,
      "outputs": [
        {
          "output_type": "execute_result",
          "data": {
            "text/plain": [
              "Text(0.5, 1.0, ' Max Number of reviews Vs location')"
            ]
          },
          "metadata": {},
          "execution_count": 95
        },
        {
          "output_type": "display_data",
          "data": {
            "text/plain": [
              "<Figure size 432x288 with 1 Axes>"
            ],
            "image/png": "[encoded data removed]"
          },
          "metadata": {
            "needs_background": "light"
          }
        }
      ]
    },
    {
      "cell_type": "code",
      "source": [
        "price_location = df_1.groupby(['price'])['number_of_reviews'].max().reset_index()\n",
        "price_location.head()"
      ],
      "metadata": {
        "colab": {
          "base_uri": "https://localhost:8080/",
          "height": 206
        },
        "id": "UqhuYtbe109O",
        "outputId": "7bf98d13-5ee8-4f0c-e4c2-b74ee1131f79"
      },
      "execution_count": 96,
      "outputs": [
        {
          "output_type": "execute_result",
          "data": {
            "text/plain": [
              "   price  number_of_reviews\n",
              "0      0                 95\n",
              "1     10                 93\n",
              "2     11                113\n",
              "3     12                  8\n",
              "4     13                  9"
            ],
            "text/html": [
              "\n",
              "  <div id=\"df-22c6dcf6-81dc-4830-8c9a-5711eab5ddc5\">\n",
              "    <div class=\"colab-df-container\">\n",
              "      <div>\n",
              "<style scoped>\n",
              "    .dataframe tbody tr th:only-of-type {\n",
              "        vertical-align: middle;\n",
              "    }\n",
              "\n",
              "    .dataframe tbody tr th {\n",
              "        vertical-align: top;\n",
              "    }\n",
              "\n",
              "    .dataframe thead th {\n",
              "        text-align: right;\n",
              "    }\n",
              "</style>\n",
              "<table border=\"1\" class=\"dataframe\">\n",
              "  <thead>\n",
              "    <tr style=\"text-align: right;\">\n",
              "      <th></th>\n",
              "      <th>price</th>\n",
              "      <th>number_of_reviews</th>\n",
              "    </tr>\n",
              "  </thead>\n",
              "  <tbody>\n",
              "    <tr>\n",
              "      <th>0</th>\n",
              "      <td>0</td>\n",
              "      <td>95</td>\n",
              "    </tr>\n",
              "    <tr>\n",
              "      <th>1</th>\n",
              "      <td>10</td>\n",
              "      <td>93</td>\n",
              "    </tr>\n",
              "    <tr>\n",
              "      <th>2</th>\n",
              "      <td>11</td>\n",
              "      <td>113</td>\n",
              "    </tr>\n",
              "    <tr>\n",
              "      <th>3</th>\n",
              "      <td>12</td>\n",
              "      <td>8</td>\n",
              "    </tr>\n",
              "    <tr>\n",
              "      <th>4</th>\n",
              "      <td>13</td>\n",
              "      <td>9</td>\n",
              "    </tr>\n",
              "  </tbody>\n",
              "</table>\n",
              "</div>\n",
              "      <button class=\"colab-df-convert\" onclick=\"convertToInteractive('df-22c6dcf6-81dc-4830-8c9a-5711eab5ddc5')\"\n",
              "              title=\"Convert this dataframe to an interactive table.\"\n",
              "              style=\"display:none;\">\n",
              "        \n",
              "  <svg xmlns=\"http://www.w3.org/2000/svg\" height=\"24px\"viewBox=\"0 0 24 24\"\n",
              "       width=\"24px\">\n",
              "    <path d=\"M0 0h24v24H0V0z\" fill=\"none\"/>\n",
              "    <path d=\"M18.56 5.44l.94 2.06.94-2.06 2.06-.94-2.06-.94-.94-2.06-.94 2.06-2.06.94zm-11 1L8.5 8.5l.94-2.06 2.06-.94-2.06-.94L8.5 2.5l-.94 2.06-2.06.94zm10 10l.94 2.06.94-2.06 2.06-.94-2.06-.94-.94-2.06-.94 2.06-2.06.94z\"/><path d=\"M17.41 7.96l-1.37-1.37c-.4-.4-.92-.59-1.43-.59-.52 0-1.04.2-1.43.59L10.3 9.45l-7.72 7.72c-.78.78-.78 2.05 0 2.83L4 21.41c.39.39.9.59 1.41.59.51 0 1.02-.2 1.41-.59l7.78-7.78 2.81-2.81c.8-.78.8-2.07 0-2.86zM5.41 20L4 18.59l7.72-7.72 1.47 1.35L5.41 20z\"/>\n",
              "  </svg>\n",
              "      </button>\n",
              "      \n",
              "  <style>\n",
              "    .colab-df-container {\n",
              "      display:flex;\n",
              "      flex-wrap:wrap;\n",
              "      gap: 12px;\n",
              "    }\n",
              "\n",
              "    .colab-df-convert {\n",
              "      background-color: #E8F0FE;\n",
              "      border: none;\n",
              "      border-radius: 50%;\n",
              "      cursor: pointer;\n",
              "      display: none;\n",
              "      fill: #1967D2;\n",
              "      height: 32px;\n",
              "      padding: 0 0 0 0;\n",
              "      width: 32px;\n",
              "    }\n",
              "\n",
              "    .colab-df-convert:hover {\n",
              "      background-color: #E2EBFA;\n",
              "      box-shadow: 0px 1px 2px rgba(60, 64, 67, 0.3), 0px 1px 3px 1px rgba(60, 64, 67, 0.15);\n",
              "      fill: #174EA6;\n",
              "    }\n",
              "\n",
              "    [theme=dark] .colab-df-convert {\n",
              "      background-color: #3B4455;\n",
              "      fill: #D2E3FC;\n",
              "    }\n",
              "\n",
              "    [theme=dark] .colab-df-convert:hover {\n",
              "      background-color: #434B5C;\n",
              "      box-shadow: 0px 1px 3px 1px rgba(0, 0, 0, 0.15);\n",
              "      filter: drop-shadow(0px 1px 2px rgba(0, 0, 0, 0.3));\n",
              "      fill: #FFFFFF;\n",
              "    }\n",
              "  </style>\n",
              "\n",
              "      <script>\n",
              "        const buttonEl =\n",
              "          document.querySelector('#df-22c6dcf6-81dc-4830-8c9a-5711eab5ddc5 button.colab-df-convert');\n",
              "        buttonEl.style.display =\n",
              "          google.colab.kernel.accessAllowed ? 'block' : 'none';\n",
              "\n",
              "        async function convertToInteractive(key) {\n",
              "          const element = document.querySelector('#df-22c6dcf6-81dc-4830-8c9a-5711eab5ddc5');\n",
              "          const dataTable =\n",
              "            await google.colab.kernel.invokeFunction('convertToInteractive',\n",
              "                                                     [key], {});\n",
              "          if (!dataTable) return;\n",
              "\n",
              "          const docLinkHtml = 'Like what you see? Visit the ' +\n",
              "            '<a target=\"_blank\" href=https://colab.research.google.com/notebooks/data_table.ipynb>data table notebook</a>'\n",
              "            + ' to learn more about interactive tables.';\n",
              "          element.innerHTML = '';\n",
              "          dataTable['output_type'] = 'display_data';\n",
              "          await google.colab.output.renderOutput(dataTable, element);\n",
              "          const docLink = document.createElement('div');\n",
              "          docLink.innerHTML = docLinkHtml;\n",
              "          element.appendChild(docLink);\n",
              "        }\n",
              "      </script>\n",
              "    </div>\n",
              "  </div>\n",
              "  "
            ]
          },
          "metadata": {},
          "execution_count": 96
        }
      ]
    },
    {
      "cell_type": "code",
      "source": [
        "plt.scatter(price_location['price'], price_location['number_of_reviews'], color ='green')\n",
        "\n",
        "plt.xlabel(\"Price\")\n",
        "plt.ylabel(\"Maximum Number of Reviews\")\n",
        "plt.title(\"Max Number of Reviews Vs Price\")\n",
        "plt.xlim([0, 4000])"
      ],
      "metadata": {
        "colab": {
          "base_uri": "https://localhost:8080/",
          "height": 312
        },
        "id": "c0cOT9qt32B_",
        "outputId": "567b1855-bf44-4805-981e-2a2ec965456a"
      },
      "execution_count": 97,
      "outputs": [
        {
          "output_type": "execute_result",
          "data": {
            "text/plain": [
              "(0.0, 4000.0)"
            ]
          },
          "metadata": {},
          "execution_count": 97
        },
        {
          "output_type": "display_data",
          "data": {
            "text/plain": [
              "<Figure size 432x288 with 1 Axes>"
            ],
            "image/png": "[encoded data removed]"
          },
          "metadata": {
            "needs_background": "light"
          }
        }
      ]
    },
    {
      "cell_type": "code",
      "source": [
        "plt.scatter(price_location['price'],price_location['number_of_reviews'])\n",
        " \n",
        "plt.xlabel(\"Price\")\n",
        "plt.ylabel(\"Maximum Number of Reviews\")\n",
        "plt.title(\"Max Number of Reviews Vs Price\")"
      ],
      "metadata": {
        "colab": {
          "base_uri": "https://localhost:8080/",
          "height": 312
        },
        "id": "dN_OjiXb4wBf",
        "outputId": "468ec3fa-8889-49fb-a6ef-af2ad09fe4b5"
      },
      "execution_count": 98,
      "outputs": [
        {
          "output_type": "execute_result",
          "data": {
            "text/plain": [
              "Text(0.5, 1.0, 'Max Number of Reviews Vs Price')"
            ]
          },
          "metadata": {},
          "execution_count": 98
        },
        {
          "output_type": "display_data",
          "data": {
            "text/plain": [
              "<Figure size 432x288 with 1 Axes>"
            ],
            "image/png": "[encoded data removed]"
          },
          "metadata": {
            "needs_background": "light"
          }
        }
      ]
    },
    {
      "cell_type": "markdown",
      "source": [
        "## As we can see, most people prefer low-price lodgings or apartments. And also, people prefer to stay in Queens and, after that, they are preferring to stay in Manhattan."
      ],
      "metadata": {
        "id": "vpPMEKrX6JoN"
      }
    },
    {
      "cell_type": "markdown",
      "source": [
        "# 3. Which hosts are the busiest and why?"
      ],
      "metadata": {
        "id": "bmLByQOU7QKH"
      }
    },
    {
      "cell_type": "code",
      "source": [
        "busiest_hosts = df_1.groupby(['host_name','room_type'])['number_of_reviews'].max().reset_index()\n",
        "busiest_hosts = busiest_hosts.sort_values(by='number_of_reviews', ascending=False).head(10)\n",
        "busiest_hosts"
      ],
      "metadata": {
        "id": "1OvRZcrR7O-Y",
        "colab": {
          "base_uri": "https://localhost:8080/",
          "height": 363
        },
        "outputId": "731925e2-5caa-4c7e-a840-6d85fe07df9f"
      },
      "execution_count": 99,
      "outputs": [
        {
          "output_type": "execute_result",
          "data": {
            "text/plain": [
              "      host_name        room_type  number_of_reviews\n",
              "3434       Dona     Private room                629\n",
              "6332         Jj     Private room                607\n",
              "8977       Maya     Private room                543\n",
              "2164      Carol     Private room                540\n",
              "2975   Danielle     Private room                510\n",
              "1214        Asa  Entire home/apt                488\n",
              "13839     Wanda     Private room                480\n",
              "7902      Linda     Private room                474\n",
              "2947       Dani  Entire home/apt                467\n",
              "863      Angela     Private room                466"
            ],
            "text/html": [
              "\n",
              "  <div id=\"df-336f637d-10ad-4280-86e2-b28b11606a1c\">\n",
              "    <div class=\"colab-df-container\">\n",
              "      <div>\n",
              "<style scoped>\n",
              "    .dataframe tbody tr th:only-of-type {\n",
              "        vertical-align: middle;\n",
              "    }\n",
              "\n",
              "    .dataframe tbody tr th {\n",
              "        vertical-align: top;\n",
              "    }\n",
              "\n",
              "    .dataframe thead th {\n",
              "        text-align: right;\n",
              "    }\n",
              "</style>\n",
              "<table border=\"1\" class=\"dataframe\">\n",
              "  <thead>\n",
              "    <tr style=\"text-align: right;\">\n",
              "      <th></th>\n",
              "      <th>host_name</th>\n",
              "      <th>room_type</th>\n",
              "      <th>number_of_reviews</th>\n",
              "    </tr>\n",
              "  </thead>\n",
              "  <tbody>\n",
              "    <tr>\n",
              "      <th>3434</th>\n",
              "      <td>Dona</td>\n",
              "      <td>Private room</td>\n",
              "      <td>629</td>\n",
              "    </tr>\n",
              "    <tr>\n",
              "      <th>6332</th>\n",
              "      <td>Jj</td>\n",
              "      <td>Private room</td>\n",
              "      <td>607</td>\n",
              "    </tr>\n",
              "    <tr>\n",
              "      <th>8977</th>\n",
              "      <td>Maya</td>\n",
              "      <td>Private room</td>\n",
              "      <td>543</td>\n",
              "    </tr>\n",
              "    <tr>\n",
              "      <th>2164</th>\n",
              "      <td>Carol</td>\n",
              "      <td>Private room</td>\n",
              "      <td>540</td>\n",
              "    </tr>\n",
              "    <tr>\n",
              "      <th>2975</th>\n",
              "      <td>Danielle</td>\n",
              "      <td>Private room</td>\n",
              "      <td>510</td>\n",
              "    </tr>\n",
              "    <tr>\n",
              "      <th>1214</th>\n",
              "      <td>Asa</td>\n",
              "      <td>Entire home/apt</td>\n",
              "      <td>488</td>\n",
              "    </tr>\n",
              "    <tr>\n",
              "      <th>13839</th>\n",
              "      <td>Wanda</td>\n",
              "      <td>Private room</td>\n",
              "      <td>480</td>\n",
              "    </tr>\n",
              "    <tr>\n",
              "      <th>7902</th>\n",
              "      <td>Linda</td>\n",
              "      <td>Private room</td>\n",
              "      <td>474</td>\n",
              "    </tr>\n",
              "    <tr>\n",
              "      <th>2947</th>\n",
              "      <td>Dani</td>\n",
              "      <td>Entire home/apt</td>\n",
              "      <td>467</td>\n",
              "    </tr>\n",
              "    <tr>\n",
              "      <th>863</th>\n",
              "      <td>Angela</td>\n",
              "      <td>Private room</td>\n",
              "      <td>466</td>\n",
              "    </tr>\n",
              "  </tbody>\n",
              "</table>\n",
              "</div>\n",
              "      <button class=\"colab-df-convert\" onclick=\"convertToInteractive('df-336f637d-10ad-4280-86e2-b28b11606a1c')\"\n",
              "              title=\"Convert this dataframe to an interactive table.\"\n",
              "              style=\"display:none;\">\n",
              "        \n",
              "  <svg xmlns=\"http://www.w3.org/2000/svg\" height=\"24px\"viewBox=\"0 0 24 24\"\n",
              "       width=\"24px\">\n",
              "    <path d=\"M0 0h24v24H0V0z\" fill=\"none\"/>\n",
              "    <path d=\"M18.56 5.44l.94 2.06.94-2.06 2.06-.94-2.06-.94-.94-2.06-.94 2.06-2.06.94zm-11 1L8.5 8.5l.94-2.06 2.06-.94-2.06-.94L8.5 2.5l-.94 2.06-2.06.94zm10 10l.94 2.06.94-2.06 2.06-.94-2.06-.94-.94-2.06-.94 2.06-2.06.94z\"/><path d=\"M17.41 7.96l-1.37-1.37c-.4-.4-.92-.59-1.43-.59-.52 0-1.04.2-1.43.59L10.3 9.45l-7.72 7.72c-.78.78-.78 2.05 0 2.83L4 21.41c.39.39.9.59 1.41.59.51 0 1.02-.2 1.41-.59l7.78-7.78 2.81-2.81c.8-.78.8-2.07 0-2.86zM5.41 20L4 18.59l7.72-7.72 1.47 1.35L5.41 20z\"/>\n",
              "  </svg>\n",
              "      </button>\n",
              "      \n",
              "  <style>\n",
              "    .colab-df-container {\n",
              "      display:flex;\n",
              "      flex-wrap:wrap;\n",
              "      gap: 12px;\n",
              "    }\n",
              "\n",
              "    .colab-df-convert {\n",
              "      background-color: #E8F0FE;\n",
              "      border: none;\n",
              "      border-radius: 50%;\n",
              "      cursor: pointer;\n",
              "      display: none;\n",
              "      fill: #1967D2;\n",
              "      height: 32px;\n",
              "      padding: 0 0 0 0;\n",
              "      width: 32px;\n",
              "    }\n",
              "\n",
              "    .colab-df-convert:hover {\n",
              "      background-color: #E2EBFA;\n",
              "      box-shadow: 0px 1px 2px rgba(60, 64, 67, 0.3), 0px 1px 3px 1px rgba(60, 64, 67, 0.15);\n",
              "      fill: #174EA6;\n",
              "    }\n",
              "\n",
              "    [theme=dark] .colab-df-convert {\n",
              "      background-color: #3B4455;\n",
              "      fill: #D2E3FC;\n",
              "    }\n",
              "\n",
              "    [theme=dark] .colab-df-convert:hover {\n",
              "      background-color: #434B5C;\n",
              "      box-shadow: 0px 1px 3px 1px rgba(0, 0, 0, 0.15);\n",
              "      filter: drop-shadow(0px 1px 2px rgba(0, 0, 0, 0.3));\n",
              "      fill: #FFFFFF;\n",
              "    }\n",
              "  </style>\n",
              "\n",
              "      <script>\n",
              "        const buttonEl =\n",
              "          document.querySelector('#df-336f637d-10ad-4280-86e2-b28b11606a1c button.colab-df-convert');\n",
              "        buttonEl.style.display =\n",
              "          google.colab.kernel.accessAllowed ? 'block' : 'none';\n",
              "\n",
              "        async function convertToInteractive(key) {\n",
              "          const element = document.querySelector('#df-336f637d-10ad-4280-86e2-b28b11606a1c');\n",
              "          const dataTable =\n",
              "            await google.colab.kernel.invokeFunction('convertToInteractive',\n",
              "                                                     [key], {});\n",
              "          if (!dataTable) return;\n",
              "\n",
              "          const docLinkHtml = 'Like what you see? Visit the ' +\n",
              "            '<a target=\"_blank\" href=https://colab.research.google.com/notebooks/data_table.ipynb>data table notebook</a>'\n",
              "            + ' to learn more about interactive tables.';\n",
              "          element.innerHTML = '';\n",
              "          dataTable['output_type'] = 'display_data';\n",
              "          await google.colab.output.renderOutput(dataTable, element);\n",
              "          const docLink = document.createElement('div');\n",
              "          docLink.innerHTML = docLinkHtml;\n",
              "          element.appendChild(docLink);\n",
              "        }\n",
              "      </script>\n",
              "    </div>\n",
              "  </div>\n",
              "  "
            ]
          },
          "metadata": {},
          "execution_count": 99
        }
      ]
    },
    {
      "cell_type": "markdown",
      "source": [
        "# The \"number_of_reviews\" column in the above dataframe is actually the maximum number of reviews for that corresponding host."
      ],
      "metadata": {
        "id": "2Mad77HHuvHf"
      }
    },
    {
      "cell_type": "markdown",
      "source": [
        "We can show above information in bar diagram."
      ],
      "metadata": {
        "id": "R8BRIU7FvcEb"
      }
    },
    {
      "cell_type": "code",
      "source": [
        "sns.barplot(x = 'host_name',y = 'number_of_reviews',data =busiest_hosts)\n",
        "\n",
        "plt.ylabel('maximum number of reviews')\n",
        "plt.title('max number of reviews Vs host')"
      ],
      "metadata": {
        "colab": {
          "base_uri": "https://localhost:8080/",
          "height": 313
        },
        "id": "g22RVyqWsRXl",
        "outputId": "712883f7-4d09-4fef-cffd-0a92814b2cb2"
      },
      "execution_count": 100,
      "outputs": [
        {
          "output_type": "execute_result",
          "data": {
            "text/plain": [
              "Text(0.5, 1.0, 'max number of reviews Vs host')"
            ]
          },
          "metadata": {},
          "execution_count": 100
        },
        {
          "output_type": "display_data",
          "data": {
            "text/plain": [
              "<Figure size 432x288 with 1 Axes>"
            ],
            "image/png": "[encoded data removed]"
          },
          "metadata": {
            "needs_background": "light"
          }
        }
      ]
    },
    {
      "cell_type": "markdown",
      "source": [
        "From the above analysis, the busiest hosts are\n",
        "\n",
        "\n",
        "1.   Dona\n",
        "2.   Jj\n",
        "3.   Maya\n",
        "4.   Carol\n",
        "5.   Danielle\n",
        "6.   Asa\n",
        "7.   Wanda\n",
        "8.   Linda\n",
        "9.   Dani\n",
        "10.  Angela\n",
        "\n",
        "Most of the busiest hosts are provide private rooms. As we can see in data frame, have more reviews for private rooms and entire home/apartment. This means people prefer privacy.\n"
      ],
      "metadata": {
        "id": "Q-rgr0nwwwVx"
      }
    },
    {
      "cell_type": "code",
      "source": [
        "busiest_roomtype = df_1.groupby(['room_type'])['number_of_reviews'].max().reset_index()\n",
        "busiest_roomtype = busiest_roomtype.sort_values(by='number_of_reviews', ascending=False)\n",
        "busiest_roomtype"
      ],
      "metadata": {
        "colab": {
          "base_uri": "https://localhost:8080/",
          "height": 143
        },
        "id": "ZSsy4Sywv5Vd",
        "outputId": "048238e5-a8ec-4491-abee-41177cd78264"
      },
      "execution_count": 101,
      "outputs": [
        {
          "output_type": "execute_result",
          "data": {
            "text/plain": [
              "         room_type  number_of_reviews\n",
              "1     Private room                629\n",
              "0  Entire home/apt                488\n",
              "2      Shared room                454"
            ],
            "text/html": [
              "\n",
              "  <div id=\"df-e4d533a8-fcc5-4d71-bbfb-eb7feb5a2a7d\">\n",
              "    <div class=\"colab-df-container\">\n",
              "      <div>\n",
              "<style scoped>\n",
              "    .dataframe tbody tr th:only-of-type {\n",
              "        vertical-align: middle;\n",
              "    }\n",
              "\n",
              "    .dataframe tbody tr th {\n",
              "        vertical-align: top;\n",
              "    }\n",
              "\n",
              "    .dataframe thead th {\n",
              "        text-align: right;\n",
              "    }\n",
              "</style>\n",
              "<table border=\"1\" class=\"dataframe\">\n",
              "  <thead>\n",
              "    <tr style=\"text-align: right;\">\n",
              "      <th></th>\n",
              "      <th>room_type</th>\n",
              "      <th>number_of_reviews</th>\n",
              "    </tr>\n",
              "  </thead>\n",
              "  <tbody>\n",
              "    <tr>\n",
              "      <th>1</th>\n",
              "      <td>Private room</td>\n",
              "      <td>629</td>\n",
              "    </tr>\n",
              "    <tr>\n",
              "      <th>0</th>\n",
              "      <td>Entire home/apt</td>\n",
              "      <td>488</td>\n",
              "    </tr>\n",
              "    <tr>\n",
              "      <th>2</th>\n",
              "      <td>Shared room</td>\n",
              "      <td>454</td>\n",
              "    </tr>\n",
              "  </tbody>\n",
              "</table>\n",
              "</div>\n",
              "      <button class=\"colab-df-convert\" onclick=\"convertToInteractive('df-e4d533a8-fcc5-4d71-bbfb-eb7feb5a2a7d')\"\n",
              "              title=\"Convert this dataframe to an interactive table.\"\n",
              "              style=\"display:none;\">\n",
              "        \n",
              "  <svg xmlns=\"http://www.w3.org/2000/svg\" height=\"24px\"viewBox=\"0 0 24 24\"\n",
              "       width=\"24px\">\n",
              "    <path d=\"M0 0h24v24H0V0z\" fill=\"none\"/>\n",
              "    <path d=\"M18.56 5.44l.94 2.06.94-2.06 2.06-.94-2.06-.94-.94-2.06-.94 2.06-2.06.94zm-11 1L8.5 8.5l.94-2.06 2.06-.94-2.06-.94L8.5 2.5l-.94 2.06-2.06.94zm10 10l.94 2.06.94-2.06 2.06-.94-2.06-.94-.94-2.06-.94 2.06-2.06.94z\"/><path d=\"M17.41 7.96l-1.37-1.37c-.4-.4-.92-.59-1.43-.59-.52 0-1.04.2-1.43.59L10.3 9.45l-7.72 7.72c-.78.78-.78 2.05 0 2.83L4 21.41c.39.39.9.59 1.41.59.51 0 1.02-.2 1.41-.59l7.78-7.78 2.81-2.81c.8-.78.8-2.07 0-2.86zM5.41 20L4 18.59l7.72-7.72 1.47 1.35L5.41 20z\"/>\n",
              "  </svg>\n",
              "      </button>\n",
              "      \n",
              "  <style>\n",
              "    .colab-df-container {\n",
              "      display:flex;\n",
              "      flex-wrap:wrap;\n",
              "      gap: 12px;\n",
              "    }\n",
              "\n",
              "    .colab-df-convert {\n",
              "      background-color: #E8F0FE;\n",
              "      border: none;\n",
              "      border-radius: 50%;\n",
              "      cursor: pointer;\n",
              "      display: none;\n",
              "      fill: #1967D2;\n",
              "      height: 32px;\n",
              "      padding: 0 0 0 0;\n",
              "      width: 32px;\n",
              "    }\n",
              "\n",
              "    .colab-df-convert:hover {\n",
              "      background-color: #E2EBFA;\n",
              "      box-shadow: 0px 1px 2px rgba(60, 64, 67, 0.3), 0px 1px 3px 1px rgba(60, 64, 67, 0.15);\n",
              "      fill: #174EA6;\n",
              "    }\n",
              "\n",
              "    [theme=dark] .colab-df-convert {\n",
              "      background-color: #3B4455;\n",
              "      fill: #D2E3FC;\n",
              "    }\n",
              "\n",
              "    [theme=dark] .colab-df-convert:hover {\n",
              "      background-color: #434B5C;\n",
              "      box-shadow: 0px 1px 3px 1px rgba(0, 0, 0, 0.15);\n",
              "      filter: drop-shadow(0px 1px 2px rgba(0, 0, 0, 0.3));\n",
              "      fill: #FFFFFF;\n",
              "    }\n",
              "  </style>\n",
              "\n",
              "      <script>\n",
              "        const buttonEl =\n",
              "          document.querySelector('#df-e4d533a8-fcc5-4d71-bbfb-eb7feb5a2a7d button.colab-df-convert');\n",
              "        buttonEl.style.display =\n",
              "          google.colab.kernel.accessAllowed ? 'block' : 'none';\n",
              "\n",
              "        async function convertToInteractive(key) {\n",
              "          const element = document.querySelector('#df-e4d533a8-fcc5-4d71-bbfb-eb7feb5a2a7d');\n",
              "          const dataTable =\n",
              "            await google.colab.kernel.invokeFunction('convertToInteractive',\n",
              "                                                     [key], {});\n",
              "          if (!dataTable) return;\n",
              "\n",
              "          const docLinkHtml = 'Like what you see? Visit the ' +\n",
              "            '<a target=\"_blank\" href=https://colab.research.google.com/notebooks/data_table.ipynb>data table notebook</a>'\n",
              "            + ' to learn more about interactive tables.';\n",
              "          element.innerHTML = '';\n",
              "          dataTable['output_type'] = 'display_data';\n",
              "          await google.colab.output.renderOutput(dataTable, element);\n",
              "          const docLink = document.createElement('div');\n",
              "          docLink.innerHTML = docLinkHtml;\n",
              "          element.appendChild(docLink);\n",
              "        }\n",
              "      </script>\n",
              "    </div>\n",
              "  </div>\n",
              "  "
            ]
          },
          "metadata": {},
          "execution_count": 101
        }
      ]
    },
    {
      "cell_type": "markdown",
      "source": [
        "## 4. Is there any noticeable difference of traffic among different areas and what could be the reason for it?"
      ],
      "metadata": {
        "id": "_AGIXueQzNSg"
      }
    },
    {
      "cell_type": "code",
      "source": [
        "traffic_areas = df_1.groupby(['neighbourhood_group','room_type'])['minimum_nights'].max().reset_index()\n",
        "traffic_areas = traffic_areas.sort_values(by='minimum_nights', ascending=False)\n",
        "traffic_areas"
      ],
      "metadata": {
        "colab": {
          "base_uri": "https://localhost:8080/",
          "height": 520
        },
        "id": "7LJZTxezy01Z",
        "outputId": "f2d9b77d-b8a0-49c6-94d2-524628797da9"
      },
      "execution_count": 102,
      "outputs": [
        {
          "output_type": "execute_result",
          "data": {
            "text/plain": [
              "   neighbourhood_group        room_type  minimum_nights\n",
              "6            Manhattan  Entire home/apt            1250\n",
              "4             Brooklyn     Private room             999\n",
              "8            Manhattan      Shared room             999\n",
              "3             Brooklyn  Entire home/apt             500\n",
              "9               Queens  Entire home/apt             500\n",
              "1                Bronx     Private room             365\n",
              "7            Manhattan     Private room             365\n",
              "10              Queens     Private room             365\n",
              "12       Staten Island  Entire home/apt             365\n",
              "0                Bronx  Entire home/apt             186\n",
              "5             Brooklyn      Shared room             100\n",
              "2                Bronx      Shared room              90\n",
              "11              Queens      Shared room              62\n",
              "13       Staten Island     Private room              33\n",
              "14       Staten Island      Shared room               4"
            ],
            "text/html": [
              "\n",
              "  <div id=\"df-22b8e5ae-e227-4d21-ab8a-b73ef814abfa\">\n",
              "    <div class=\"colab-df-container\">\n",
              "      <div>\n",
              "<style scoped>\n",
              "    .dataframe tbody tr th:only-of-type {\n",
              "        vertical-align: middle;\n",
              "    }\n",
              "\n",
              "    .dataframe tbody tr th {\n",
              "        vertical-align: top;\n",
              "    }\n",
              "\n",
              "    .dataframe thead th {\n",
              "        text-align: right;\n",
              "    }\n",
              "</style>\n",
              "<table border=\"1\" class=\"dataframe\">\n",
              "  <thead>\n",
              "    <tr style=\"text-align: right;\">\n",
              "      <th></th>\n",
              "      <th>neighbourhood_group</th>\n",
              "      <th>room_type</th>\n",
              "      <th>minimum_nights</th>\n",
              "    </tr>\n",
              "  </thead>\n",
              "  <tbody>\n",
              "    <tr>\n",
              "      <th>6</th>\n",
              "      <td>Manhattan</td>\n",
              "      <td>Entire home/apt</td>\n",
              "      <td>1250</td>\n",
              "    </tr>\n",
              "    <tr>\n",
              "      <th>4</th>\n",
              "      <td>Brooklyn</td>\n",
              "      <td>Private room</td>\n",
              "      <td>999</td>\n",
              "    </tr>\n",
              "    <tr>\n",
              "      <th>8</th>\n",
              "      <td>Manhattan</td>\n",
              "      <td>Shared room</td>\n",
              "      <td>999</td>\n",
              "    </tr>\n",
              "    <tr>\n",
              "      <th>3</th>\n",
              "      <td>Brooklyn</td>\n",
              "      <td>Entire home/apt</td>\n",
              "      <td>500</td>\n",
              "    </tr>\n",
              "    <tr>\n",
              "      <th>9</th>\n",
              "      <td>Queens</td>\n",
              "      <td>Entire home/apt</td>\n",
              "      <td>500</td>\n",
              "    </tr>\n",
              "    <tr>\n",
              "      <th>1</th>\n",
              "      <td>Bronx</td>\n",
              "      <td>Private room</td>\n",
              "      <td>365</td>\n",
              "    </tr>\n",
              "    <tr>\n",
              "      <th>7</th>\n",
              "      <td>Manhattan</td>\n",
              "      <td>Private room</td>\n",
              "      <td>365</td>\n",
              "    </tr>\n",
              "    <tr>\n",
              "      <th>10</th>\n",
              "      <td>Queens</td>\n",
              "      <td>Private room</td>\n",
              "      <td>365</td>\n",
              "    </tr>\n",
              "    <tr>\n",
              "      <th>12</th>\n",
              "      <td>Staten Island</td>\n",
              "      <td>Entire home/apt</td>\n",
              "      <td>365</td>\n",
              "    </tr>\n",
              "    <tr>\n",
              "      <th>0</th>\n",
              "      <td>Bronx</td>\n",
              "      <td>Entire home/apt</td>\n",
              "      <td>186</td>\n",
              "    </tr>\n",
              "    <tr>\n",
              "      <th>5</th>\n",
              "      <td>Brooklyn</td>\n",
              "      <td>Shared room</td>\n",
              "      <td>100</td>\n",
              "    </tr>\n",
              "    <tr>\n",
              "      <th>2</th>\n",
              "      <td>Bronx</td>\n",
              "      <td>Shared room</td>\n",
              "      <td>90</td>\n",
              "    </tr>\n",
              "    <tr>\n",
              "      <th>11</th>\n",
              "      <td>Queens</td>\n",
              "      <td>Shared room</td>\n",
              "      <td>62</td>\n",
              "    </tr>\n",
              "    <tr>\n",
              "      <th>13</th>\n",
              "      <td>Staten Island</td>\n",
              "      <td>Private room</td>\n",
              "      <td>33</td>\n",
              "    </tr>\n",
              "    <tr>\n",
              "      <th>14</th>\n",
              "      <td>Staten Island</td>\n",
              "      <td>Shared room</td>\n",
              "      <td>4</td>\n",
              "    </tr>\n",
              "  </tbody>\n",
              "</table>\n",
              "</div>\n",
              "      <button class=\"colab-df-convert\" onclick=\"convertToInteractive('df-22b8e5ae-e227-4d21-ab8a-b73ef814abfa')\"\n",
              "              title=\"Convert this dataframe to an interactive table.\"\n",
              "              style=\"display:none;\">\n",
              "        \n",
              "  <svg xmlns=\"http://www.w3.org/2000/svg\" height=\"24px\"viewBox=\"0 0 24 24\"\n",
              "       width=\"24px\">\n",
              "    <path d=\"M0 0h24v24H0V0z\" fill=\"none\"/>\n",
              "    <path d=\"M18.56 5.44l.94 2.06.94-2.06 2.06-.94-2.06-.94-.94-2.06-.94 2.06-2.06.94zm-11 1L8.5 8.5l.94-2.06 2.06-.94-2.06-.94L8.5 2.5l-.94 2.06-2.06.94zm10 10l.94 2.06.94-2.06 2.06-.94-2.06-.94-.94-2.06-.94 2.06-2.06.94z\"/><path d=\"M17.41 7.96l-1.37-1.37c-.4-.4-.92-.59-1.43-.59-.52 0-1.04.2-1.43.59L10.3 9.45l-7.72 7.72c-.78.78-.78 2.05 0 2.83L4 21.41c.39.39.9.59 1.41.59.51 0 1.02-.2 1.41-.59l7.78-7.78 2.81-2.81c.8-.78.8-2.07 0-2.86zM5.41 20L4 18.59l7.72-7.72 1.47 1.35L5.41 20z\"/>\n",
              "  </svg>\n",
              "      </button>\n",
              "      \n",
              "  <style>\n",
              "    .colab-df-container {\n",
              "      display:flex;\n",
              "      flex-wrap:wrap;\n",
              "      gap: 12px;\n",
              "    }\n",
              "\n",
              "    .colab-df-convert {\n",
              "      background-color: #E8F0FE;\n",
              "      border: none;\n",
              "      border-radius: 50%;\n",
              "      cursor: pointer;\n",
              "      display: none;\n",
              "      fill: #1967D2;\n",
              "      height: 32px;\n",
              "      padding: 0 0 0 0;\n",
              "      width: 32px;\n",
              "    }\n",
              "\n",
              "    .colab-df-convert:hover {\n",
              "      background-color: #E2EBFA;\n",
              "      box-shadow: 0px 1px 2px rgba(60, 64, 67, 0.3), 0px 1px 3px 1px rgba(60, 64, 67, 0.15);\n",
              "      fill: #174EA6;\n",
              "    }\n",
              "\n",
              "    [theme=dark] .colab-df-convert {\n",
              "      background-color: #3B4455;\n",
              "      fill: #D2E3FC;\n",
              "    }\n",
              "\n",
              "    [theme=dark] .colab-df-convert:hover {\n",
              "      background-color: #434B5C;\n",
              "      box-shadow: 0px 1px 3px 1px rgba(0, 0, 0, 0.15);\n",
              "      filter: drop-shadow(0px 1px 2px rgba(0, 0, 0, 0.3));\n",
              "      fill: #FFFFFF;\n",
              "    }\n",
              "  </style>\n",
              "\n",
              "      <script>\n",
              "        const buttonEl =\n",
              "          document.querySelector('#df-22b8e5ae-e227-4d21-ab8a-b73ef814abfa button.colab-df-convert');\n",
              "        buttonEl.style.display =\n",
              "          google.colab.kernel.accessAllowed ? 'block' : 'none';\n",
              "\n",
              "        async function convertToInteractive(key) {\n",
              "          const element = document.querySelector('#df-22b8e5ae-e227-4d21-ab8a-b73ef814abfa');\n",
              "          const dataTable =\n",
              "            await google.colab.kernel.invokeFunction('convertToInteractive',\n",
              "                                                     [key], {});\n",
              "          if (!dataTable) return;\n",
              "\n",
              "          const docLinkHtml = 'Like what you see? Visit the ' +\n",
              "            '<a target=\"_blank\" href=https://colab.research.google.com/notebooks/data_table.ipynb>data table notebook</a>'\n",
              "            + ' to learn more about interactive tables.';\n",
              "          element.innerHTML = '';\n",
              "          dataTable['output_type'] = 'display_data';\n",
              "          await google.colab.output.renderOutput(dataTable, element);\n",
              "          const docLink = document.createElement('div');\n",
              "          docLink.innerHTML = docLinkHtml;\n",
              "          element.appendChild(docLink);\n",
              "        }\n",
              "      </script>\n",
              "    </div>\n",
              "  </div>\n",
              "  "
            ]
          },
          "metadata": {},
          "execution_count": 102
        }
      ]
    },
    {
      "cell_type": "code",
      "source": [
        "traffic_ngbr_groups = df_1.groupby(['neighbourhood_group','room_type'])['minimum_nights'].count().reset_index()\n",
        "traffic_ngbr_groups = traffic_ngbr_groups.sort_values(by='minimum_nights', ascending=False)\n",
        "traffic_ngbr_groups"
      ],
      "metadata": {
        "colab": {
          "base_uri": "https://localhost:8080/",
          "height": 520
        },
        "id": "Y_ukrfh502S5",
        "outputId": "aa39f3a8-a769-4e94-f33a-e491b8491e9f"
      },
      "execution_count": 103,
      "outputs": [
        {
          "output_type": "execute_result",
          "data": {
            "text/plain": [
              "   neighbourhood_group        room_type  minimum_nights\n",
              "6            Manhattan  Entire home/apt           13190\n",
              "4             Brooklyn     Private room           10123\n",
              "3             Brooklyn  Entire home/apt            9553\n",
              "7            Manhattan     Private room            7973\n",
              "10              Queens     Private room            3370\n",
              "9               Queens  Entire home/apt            2096\n",
              "1                Bronx     Private room             652\n",
              "8            Manhattan      Shared room             480\n",
              "5             Brooklyn      Shared room             413\n",
              "0                Bronx  Entire home/apt             378\n",
              "11              Queens      Shared room             198\n",
              "13       Staten Island     Private room             188\n",
              "12       Staten Island  Entire home/apt             176\n",
              "2                Bronx      Shared room              59\n",
              "14       Staten Island      Shared room               9"
            ],
            "text/html": [
              "\n",
              "  <div id=\"df-534682e3-e10b-43ac-a2a5-3fd6e8061c66\">\n",
              "    <div class=\"colab-df-container\">\n",
              "      <div>\n",
              "<style scoped>\n",
              "    .dataframe tbody tr th:only-of-type {\n",
              "        vertical-align: middle;\n",
              "    }\n",
              "\n",
              "    .dataframe tbody tr th {\n",
              "        vertical-align: top;\n",
              "    }\n",
              "\n",
              "    .dataframe thead th {\n",
              "        text-align: right;\n",
              "    }\n",
              "</style>\n",
              "<table border=\"1\" class=\"dataframe\">\n",
              "  <thead>\n",
              "    <tr style=\"text-align: right;\">\n",
              "      <th></th>\n",
              "      <th>neighbourhood_group</th>\n",
              "      <th>room_type</th>\n",
              "      <th>minimum_nights</th>\n",
              "    </tr>\n",
              "  </thead>\n",
              "  <tbody>\n",
              "    <tr>\n",
              "      <th>6</th>\n",
              "      <td>Manhattan</td>\n",
              "      <td>Entire home/apt</td>\n",
              "      <td>13190</td>\n",
              "    </tr>\n",
              "    <tr>\n",
              "      <th>4</th>\n",
              "      <td>Brooklyn</td>\n",
              "      <td>Private room</td>\n",
              "      <td>10123</td>\n",
              "    </tr>\n",
              "    <tr>\n",
              "      <th>3</th>\n",
              "      <td>Brooklyn</td>\n",
              "      <td>Entire home/apt</td>\n",
              "      <td>9553</td>\n",
              "    </tr>\n",
              "    <tr>\n",
              "      <th>7</th>\n",
              "      <td>Manhattan</td>\n",
              "      <td>Private room</td>\n",
              "      <td>7973</td>\n",
              "    </tr>\n",
              "    <tr>\n",
              "      <th>10</th>\n",
              "      <td>Queens</td>\n",
              "      <td>Private room</td>\n",
              "      <td>3370</td>\n",
              "    </tr>\n",
              "    <tr>\n",
              "      <th>9</th>\n",
              "      <td>Queens</td>\n",
              "      <td>Entire home/apt</td>\n",
              "      <td>2096</td>\n",
              "    </tr>\n",
              "    <tr>\n",
              "      <th>1</th>\n",
              "      <td>Bronx</td>\n",
              "      <td>Private room</td>\n",
              "      <td>652</td>\n",
              "    </tr>\n",
              "    <tr>\n",
              "      <th>8</th>\n",
              "      <td>Manhattan</td>\n",
              "      <td>Shared room</td>\n",
              "      <td>480</td>\n",
              "    </tr>\n",
              "    <tr>\n",
              "      <th>5</th>\n",
              "      <td>Brooklyn</td>\n",
              "      <td>Shared room</td>\n",
              "      <td>413</td>\n",
              "    </tr>\n",
              "    <tr>\n",
              "      <th>0</th>\n",
              "      <td>Bronx</td>\n",
              "      <td>Entire home/apt</td>\n",
              "      <td>378</td>\n",
              "    </tr>\n",
              "    <tr>\n",
              "      <th>11</th>\n",
              "      <td>Queens</td>\n",
              "      <td>Shared room</td>\n",
              "      <td>198</td>\n",
              "    </tr>\n",
              "    <tr>\n",
              "      <th>13</th>\n",
              "      <td>Staten Island</td>\n",
              "      <td>Private room</td>\n",
              "      <td>188</td>\n",
              "    </tr>\n",
              "    <tr>\n",
              "      <th>12</th>\n",
              "      <td>Staten Island</td>\n",
              "      <td>Entire home/apt</td>\n",
              "      <td>176</td>\n",
              "    </tr>\n",
              "    <tr>\n",
              "      <th>2</th>\n",
              "      <td>Bronx</td>\n",
              "      <td>Shared room</td>\n",
              "      <td>59</td>\n",
              "    </tr>\n",
              "    <tr>\n",
              "      <th>14</th>\n",
              "      <td>Staten Island</td>\n",
              "      <td>Shared room</td>\n",
              "      <td>9</td>\n",
              "    </tr>\n",
              "  </tbody>\n",
              "</table>\n",
              "</div>\n",
              "      <button class=\"colab-df-convert\" onclick=\"convertToInteractive('df-534682e3-e10b-43ac-a2a5-3fd6e8061c66')\"\n",
              "              title=\"Convert this dataframe to an interactive table.\"\n",
              "              style=\"display:none;\">\n",
              "        \n",
              "  <svg xmlns=\"http://www.w3.org/2000/svg\" height=\"24px\"viewBox=\"0 0 24 24\"\n",
              "       width=\"24px\">\n",
              "    <path d=\"M0 0h24v24H0V0z\" fill=\"none\"/>\n",
              "    <path d=\"M18.56 5.44l.94 2.06.94-2.06 2.06-.94-2.06-.94-.94-2.06-.94 2.06-2.06.94zm-11 1L8.5 8.5l.94-2.06 2.06-.94-2.06-.94L8.5 2.5l-.94 2.06-2.06.94zm10 10l.94 2.06.94-2.06 2.06-.94-2.06-.94-.94-2.06-.94 2.06-2.06.94z\"/><path d=\"M17.41 7.96l-1.37-1.37c-.4-.4-.92-.59-1.43-.59-.52 0-1.04.2-1.43.59L10.3 9.45l-7.72 7.72c-.78.78-.78 2.05 0 2.83L4 21.41c.39.39.9.59 1.41.59.51 0 1.02-.2 1.41-.59l7.78-7.78 2.81-2.81c.8-.78.8-2.07 0-2.86zM5.41 20L4 18.59l7.72-7.72 1.47 1.35L5.41 20z\"/>\n",
              "  </svg>\n",
              "      </button>\n",
              "      \n",
              "  <style>\n",
              "    .colab-df-container {\n",
              "      display:flex;\n",
              "      flex-wrap:wrap;\n",
              "      gap: 12px;\n",
              "    }\n",
              "\n",
              "    .colab-df-convert {\n",
              "      background-color: #E8F0FE;\n",
              "      border: none;\n",
              "      border-radius: 50%;\n",
              "      cursor: pointer;\n",
              "      display: none;\n",
              "      fill: #1967D2;\n",
              "      height: 32px;\n",
              "      padding: 0 0 0 0;\n",
              "      width: 32px;\n",
              "    }\n",
              "\n",
              "    .colab-df-convert:hover {\n",
              "      background-color: #E2EBFA;\n",
              "      box-shadow: 0px 1px 2px rgba(60, 64, 67, 0.3), 0px 1px 3px 1px rgba(60, 64, 67, 0.15);\n",
              "      fill: #174EA6;\n",
              "    }\n",
              "\n",
              "    [theme=dark] .colab-df-convert {\n",
              "      background-color: #3B4455;\n",
              "      fill: #D2E3FC;\n",
              "    }\n",
              "\n",
              "    [theme=dark] .colab-df-convert:hover {\n",
              "      background-color: #434B5C;\n",
              "      box-shadow: 0px 1px 3px 1px rgba(0, 0, 0, 0.15);\n",
              "      filter: drop-shadow(0px 1px 2px rgba(0, 0, 0, 0.3));\n",
              "      fill: #FFFFFF;\n",
              "    }\n",
              "  </style>\n",
              "\n",
              "      <script>\n",
              "        const buttonEl =\n",
              "          document.querySelector('#df-534682e3-e10b-43ac-a2a5-3fd6e8061c66 button.colab-df-convert');\n",
              "        buttonEl.style.display =\n",
              "          google.colab.kernel.accessAllowed ? 'block' : 'none';\n",
              "\n",
              "        async function convertToInteractive(key) {\n",
              "          const element = document.querySelector('#df-534682e3-e10b-43ac-a2a5-3fd6e8061c66');\n",
              "          const dataTable =\n",
              "            await google.colab.kernel.invokeFunction('convertToInteractive',\n",
              "                                                     [key], {});\n",
              "          if (!dataTable) return;\n",
              "\n",
              "          const docLinkHtml = 'Like what you see? Visit the ' +\n",
              "            '<a target=\"_blank\" href=https://colab.research.google.com/notebooks/data_table.ipynb>data table notebook</a>'\n",
              "            + ' to learn more about interactive tables.';\n",
              "          element.innerHTML = '';\n",
              "          dataTable['output_type'] = 'display_data';\n",
              "          await google.colab.output.renderOutput(dataTable, element);\n",
              "          const docLink = document.createElement('div');\n",
              "          docLink.innerHTML = docLinkHtml;\n",
              "          element.appendChild(docLink);\n",
              "        }\n",
              "      </script>\n",
              "    </div>\n",
              "  </div>\n",
              "  "
            ]
          },
          "metadata": {},
          "execution_count": 103
        }
      ]
    },
    {
      "cell_type": "markdown",
      "source": [
        "## The count() returns the total number of times a particular combination appeared in the data frame. The locations or neighbourhoods in Manhattan and Brooklyn are more compared to other neighbourhood groups. So the people's traffic/density is more in Manhattan and Brooklyn. The reason behind this is in those two places, hosts are providing more number of private rooms and entire home/apt."
      ],
      "metadata": {
        "id": "vBPNAA0Q1rZf"
      }
    },
    {
      "cell_type": "markdown",
      "source": [
        "## About availability of rooms:"
      ],
      "metadata": {
        "id": "uYdw7EJcI-2E"
      }
    },
    {
      "cell_type": "code",
      "source": [
        "df_availab=df_1['availability_365'].value_counts()\n",
        "df_availab"
      ],
      "metadata": {
        "id": "IQpjOQtA1Djw",
        "colab": {
          "base_uri": "https://localhost:8080/"
        },
        "outputId": "11ea48be-4584-412a-af94-715ba8730ee5"
      },
      "execution_count": 104,
      "outputs": [
        {
          "output_type": "execute_result",
          "data": {
            "text/plain": [
              "0      17508\n",
              "365     1294\n",
              "364      491\n",
              "1        408\n",
              "89       361\n",
              "       ...  \n",
              "195       26\n",
              "183       24\n",
              "196       24\n",
              "181       23\n",
              "202       20\n",
              "Name: availability_365, Length: 366, dtype: int64"
            ]
          },
          "metadata": {},
          "execution_count": 104
        }
      ]
    },
    {
      "cell_type": "code",
      "source": [
        "df_1[df_1['neighbourhood_group']=='Manhattan']['availability_365'].value_counts()"
      ],
      "metadata": {
        "colab": {
          "base_uri": "https://localhost:8080/"
        },
        "id": "pk81U-WuIL0G",
        "outputId": "b88e935a-c0ea-4c59-e566-fc65f43ed868"
      },
      "execution_count": 105,
      "outputs": [
        {
          "output_type": "execute_result",
          "data": {
            "text/plain": [
              "0      8088\n",
              "365     572\n",
              "364     246\n",
              "1       190\n",
              "5       155\n",
              "       ... \n",
              "196      11\n",
              "183       9\n",
              "114       9\n",
              "136       8\n",
              "202       7\n",
              "Name: availability_365, Length: 366, dtype: int64"
            ]
          },
          "metadata": {},
          "execution_count": 105
        }
      ]
    },
    {
      "cell_type": "markdown",
      "source": [
        "## In Manhattan, around 8088 rooms are not availble throughout the year."
      ],
      "metadata": {
        "id": "JmyPZtzNM8Tn"
      }
    },
    {
      "cell_type": "code",
      "source": [
        "df_1[df_1['neighbourhood_group']=='Brooklyn']['availability_365'].value_counts()"
      ],
      "metadata": {
        "colab": {
          "base_uri": "https://localhost:8080/"
        },
        "id": "y_mDNG-fJw1p",
        "outputId": "ed872fec-9197-4d4e-ffa5-122b7995f7b5"
      },
      "execution_count": 106,
      "outputs": [
        {
          "output_type": "execute_result",
          "data": {
            "text/plain": [
              "0      7834\n",
              "365     453\n",
              "1       164\n",
              "89      155\n",
              "364     153\n",
              "       ... \n",
              "186       8\n",
              "183       7\n",
              "143       7\n",
              "203       6\n",
              "181       5\n",
              "Name: availability_365, Length: 366, dtype: int64"
            ]
          },
          "metadata": {},
          "execution_count": 106
        }
      ]
    },
    {
      "cell_type": "markdown",
      "source": [
        "## In Brooklyn, around 7834 rooms are not available for rent throughout the year."
      ],
      "metadata": {
        "id": "_5MnjN6rNIuG"
      }
    },
    {
      "cell_type": "markdown",
      "source": [
        "## Among 48850 rooms in all locations, 17508 rooms are not available for rent throughout the whole year."
      ],
      "metadata": {
        "id": "jNr-tvObMm0P"
      }
    },
    {
      "cell_type": "code",
      "source": [
        ""
      ],
      "metadata": {
        "id": "8zQaohmDN_9t"
      },
      "execution_count": null,
      "outputs": []
    }
  ]
}